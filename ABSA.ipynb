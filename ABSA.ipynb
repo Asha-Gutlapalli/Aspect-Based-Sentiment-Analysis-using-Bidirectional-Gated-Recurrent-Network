{
 "cells": [
  {
   "cell_type": "markdown",
   "metadata": {},
   "source": [
    "## Import Packages"
   ]
  },
  {
   "cell_type": "code",
   "execution_count": 1,
   "metadata": {},
   "outputs": [
    {
     "name": "stderr",
     "output_type": "stream",
     "text": [
      "Using TensorFlow backend.\n"
     ]
    }
   ],
   "source": [
    "#Import Packages\n",
    "import pickle\n",
    "\n",
    "import numpy as np\n",
    "import pandas as pd\n",
    "\n",
    "import tensorflow as tf\n",
    "from tensorflow.keras.preprocessing.text import Tokenizer\n",
    "from tensorflow.keras.preprocessing.sequence import pad_sequences\n",
    "\n",
    "import matplotlib.pyplot as plt"
   ]
  },
  {
   "cell_type": "markdown",
   "metadata": {},
   "source": [
    "## Read Dataset"
   ]
  },
  {
   "cell_type": "code",
   "execution_count": 2,
   "metadata": {},
   "outputs": [
    {
     "data": {
      "text/html": [
       "<div>\n",
       "<style scoped>\n",
       "    .dataframe tbody tr th:only-of-type {\n",
       "        vertical-align: middle;\n",
       "    }\n",
       "\n",
       "    .dataframe tbody tr th {\n",
       "        vertical-align: top;\n",
       "    }\n",
       "\n",
       "    .dataframe thead th {\n",
       "        text-align: right;\n",
       "    }\n",
       "</style>\n",
       "<table border=\"1\" class=\"dataframe\">\n",
       "  <thead>\n",
       "    <tr style=\"text-align: right;\">\n",
       "      <th></th>\n",
       "      <th>sentences/sentence/0/text</th>\n",
       "      <th>sentences/sentence/0/_id</th>\n",
       "      <th>sentences</th>\n",
       "      <th>aspects</th>\n",
       "      <th>polarity</th>\n",
       "      <th>sentences/sentence/1/_id</th>\n",
       "      <th>sentences.1</th>\n",
       "      <th>aspects.1</th>\n",
       "      <th>polarity.1</th>\n",
       "      <th>sentences/sentence/2/_id</th>\n",
       "      <th>...</th>\n",
       "      <th>sentences/sentence/7/Opinions/Opinion/2/_polarity</th>\n",
       "      <th>sentences/sentence/16/_OutOfScope</th>\n",
       "      <th>sentences/sentence/20/_OutOfScope</th>\n",
       "      <th>sentences/sentence/17/_OutOfScope</th>\n",
       "      <th>sentences/sentence/9/Opinions/Opinion/2/_category</th>\n",
       "      <th>sentences/sentence/9/Opinions/Opinion/2/_polarity</th>\n",
       "      <th>sentences/sentence/11/_OutOfScope</th>\n",
       "      <th>sentences/sentence/14/_OutOfScope</th>\n",
       "      <th>sentences/sentence/2/Opinions/Opinion/4/_category</th>\n",
       "      <th>sentences/sentence/2/Opinions/Opinion/4/_polarity</th>\n",
       "    </tr>\n",
       "  </thead>\n",
       "  <tbody>\n",
       "    <tr>\n",
       "      <th>0</th>\n",
       "      <td>Being a PC user my whole life....</td>\n",
       "      <td>79:00:00</td>\n",
       "      <td>This computer is absolutely AMAZING!!!</td>\n",
       "      <td>LAPTOP#GENERAL</td>\n",
       "      <td>positive</td>\n",
       "      <td>79:01:00</td>\n",
       "      <td>10 plus hours of battery...</td>\n",
       "      <td>BATTERY#OPERATION_PERFORMANCE</td>\n",
       "      <td>positive</td>\n",
       "      <td>79:02:00</td>\n",
       "      <td>...</td>\n",
       "      <td>NaN</td>\n",
       "      <td>NaN</td>\n",
       "      <td>NaN</td>\n",
       "      <td>NaN</td>\n",
       "      <td>NaN</td>\n",
       "      <td>NaN</td>\n",
       "      <td>NaN</td>\n",
       "      <td>NaN</td>\n",
       "      <td>NaN</td>\n",
       "      <td>NaN</td>\n",
       "    </tr>\n",
       "    <tr>\n",
       "      <th>1</th>\n",
       "      <td>the laptop was really good and it goes really ...</td>\n",
       "      <td>10:00</td>\n",
       "      <td>i would really recommend to any person out the...</td>\n",
       "      <td>LAPTOP#GENERAL</td>\n",
       "      <td>positive</td>\n",
       "      <td>10:01</td>\n",
       "      <td>and its really cheap and you wont regret buyin...</td>\n",
       "      <td>LAPTOP#PRICE</td>\n",
       "      <td>positive</td>\n",
       "      <td>10:02</td>\n",
       "      <td>...</td>\n",
       "      <td>NaN</td>\n",
       "      <td>NaN</td>\n",
       "      <td>NaN</td>\n",
       "      <td>NaN</td>\n",
       "      <td>NaN</td>\n",
       "      <td>NaN</td>\n",
       "      <td>NaN</td>\n",
       "      <td>NaN</td>\n",
       "      <td>NaN</td>\n",
       "      <td>NaN</td>\n",
       "    </tr>\n",
       "    <tr>\n",
       "      <th>2</th>\n",
       "      <td>As a lifelong Windows user, I was extremely pl...</td>\n",
       "      <td>264:00:00</td>\n",
       "      <td>As a computer science student in college, I fi...</td>\n",
       "      <td>LAPTOP#PORTABILITY</td>\n",
       "      <td>positive</td>\n",
       "      <td>264:01:00</td>\n",
       "      <td>without a big ol' clunky machine in my backpac...</td>\n",
       "      <td>LAPTOP#DESIGN_FEATURES</td>\n",
       "      <td>positive</td>\n",
       "      <td>264:02:00</td>\n",
       "      <td>...</td>\n",
       "      <td>NaN</td>\n",
       "      <td>NaN</td>\n",
       "      <td>NaN</td>\n",
       "      <td>NaN</td>\n",
       "      <td>NaN</td>\n",
       "      <td>NaN</td>\n",
       "      <td>NaN</td>\n",
       "      <td>NaN</td>\n",
       "      <td>NaN</td>\n",
       "      <td>NaN</td>\n",
       "    </tr>\n",
       "    <tr>\n",
       "      <th>3</th>\n",
       "      <td>Oh my goodness-I am not a happy camper.</td>\n",
       "      <td>24:00:00</td>\n",
       "      <td>My HP is very heavy.</td>\n",
       "      <td>LAPTOP#DESIGN_FEATURES</td>\n",
       "      <td>negative</td>\n",
       "      <td>24:01:00</td>\n",
       "      <td>Not easy to carry.</td>\n",
       "      <td>LAPTOP#PORTABILITY</td>\n",
       "      <td>negative</td>\n",
       "      <td>24:02:00</td>\n",
       "      <td>...</td>\n",
       "      <td>NaN</td>\n",
       "      <td>NaN</td>\n",
       "      <td>NaN</td>\n",
       "      <td>NaN</td>\n",
       "      <td>NaN</td>\n",
       "      <td>NaN</td>\n",
       "      <td>NaN</td>\n",
       "      <td>NaN</td>\n",
       "      <td>NaN</td>\n",
       "      <td>NaN</td>\n",
       "    </tr>\n",
       "    <tr>\n",
       "      <th>4</th>\n",
       "      <td>Since I purchased my Toshiba netbook, I have b...</td>\n",
       "      <td>277:00:00</td>\n",
       "      <td>The netbook is easier for me to take to bed an...</td>\n",
       "      <td>LAPTOP#PORTABILITY</td>\n",
       "      <td>positive</td>\n",
       "      <td>277:01:00</td>\n",
       "      <td>The screen takes some getting use to, because ...</td>\n",
       "      <td>DISPLAY#USABILITY</td>\n",
       "      <td>neutral</td>\n",
       "      <td>277:02:00</td>\n",
       "      <td>...</td>\n",
       "      <td>NaN</td>\n",
       "      <td>NaN</td>\n",
       "      <td>NaN</td>\n",
       "      <td>NaN</td>\n",
       "      <td>NaN</td>\n",
       "      <td>NaN</td>\n",
       "      <td>NaN</td>\n",
       "      <td>NaN</td>\n",
       "      <td>NaN</td>\n",
       "      <td>NaN</td>\n",
       "    </tr>\n",
       "    <tr>\n",
       "      <th>...</th>\n",
       "      <td>...</td>\n",
       "      <td>...</td>\n",
       "      <td>...</td>\n",
       "      <td>...</td>\n",
       "      <td>...</td>\n",
       "      <td>...</td>\n",
       "      <td>...</td>\n",
       "      <td>...</td>\n",
       "      <td>...</td>\n",
       "      <td>...</td>\n",
       "      <td>...</td>\n",
       "      <td>...</td>\n",
       "      <td>...</td>\n",
       "      <td>...</td>\n",
       "      <td>...</td>\n",
       "      <td>...</td>\n",
       "      <td>...</td>\n",
       "      <td>...</td>\n",
       "      <td>...</td>\n",
       "      <td>...</td>\n",
       "      <td>...</td>\n",
       "    </tr>\n",
       "    <tr>\n",
       "      <th>445</th>\n",
       "      <td>This laptop is amazing!</td>\n",
       "      <td>B00KB3MXH4_22_A106YGESUYA4BP:0</td>\n",
       "      <td>Windows 8.1 has its pros and cons.</td>\n",
       "      <td>OS#GENERAL</td>\n",
       "      <td>neutral</td>\n",
       "      <td>B00KB3MXH4_22_A106YGESUYA4BP:1</td>\n",
       "      <td>The keyboard is backlit but you have to press ...</td>\n",
       "      <td>KEYBOARD#DESIGN_FEATURES</td>\n",
       "      <td>positive</td>\n",
       "      <td>B00KB3MXH4_22_A106YGESUYA4BP:2</td>\n",
       "      <td>...</td>\n",
       "      <td>NaN</td>\n",
       "      <td>NaN</td>\n",
       "      <td>NaN</td>\n",
       "      <td>NaN</td>\n",
       "      <td>NaN</td>\n",
       "      <td>NaN</td>\n",
       "      <td>NaN</td>\n",
       "      <td>NaN</td>\n",
       "      <td>NaN</td>\n",
       "      <td>NaN</td>\n",
       "    </tr>\n",
       "    <tr>\n",
       "      <th>446</th>\n",
       "      <td>The HP Envy 15 has been everything I expected.</td>\n",
       "      <td>B00D7Z84OY_46_A1P70MSK0HHO7K:0</td>\n",
       "      <td>After doing much research for a laptop that ha...</td>\n",
       "      <td>LAPTOP#DESIGN_FEATURES</td>\n",
       "      <td>positive</td>\n",
       "      <td>B00D7Z84OY_46_A1P70MSK0HHO7K:1</td>\n",
       "      <td>Amazon had the best pricing and the delivery w...</td>\n",
       "      <td>NaN</td>\n",
       "      <td>NaN</td>\n",
       "      <td>B00D7Z84OY_46_A1P70MSK0HHO7K:2</td>\n",
       "      <td>...</td>\n",
       "      <td>NaN</td>\n",
       "      <td>NaN</td>\n",
       "      <td>NaN</td>\n",
       "      <td>NaN</td>\n",
       "      <td>NaN</td>\n",
       "      <td>NaN</td>\n",
       "      <td>NaN</td>\n",
       "      <td>NaN</td>\n",
       "      <td>NaN</td>\n",
       "      <td>NaN</td>\n",
       "    </tr>\n",
       "    <tr>\n",
       "      <th>447</th>\n",
       "      <td>used 6 times black screen returned for refund</td>\n",
       "      <td>B00KMRGF28_304_A35Q7MBKQZV1SA:0</td>\n",
       "      <td>do not use the facial recognition</td>\n",
       "      <td>SOFTWARE#GENERAL</td>\n",
       "      <td>negative</td>\n",
       "      <td>B00KMRGF28_304_A35Q7MBKQZV1SA:1</td>\n",
       "      <td>Windows 8 is not supported by a lot of things!</td>\n",
       "      <td>OS#USABILITY</td>\n",
       "      <td>negative</td>\n",
       "      <td>B00KMRGF28_304_A35Q7MBKQZV1SA:2</td>\n",
       "      <td>...</td>\n",
       "      <td>NaN</td>\n",
       "      <td>NaN</td>\n",
       "      <td>NaN</td>\n",
       "      <td>NaN</td>\n",
       "      <td>NaN</td>\n",
       "      <td>NaN</td>\n",
       "      <td>NaN</td>\n",
       "      <td>NaN</td>\n",
       "      <td>NaN</td>\n",
       "      <td>NaN</td>\n",
       "    </tr>\n",
       "    <tr>\n",
       "      <th>448</th>\n",
       "      <td>The Dell is quick enough, sturdy, not good wit...</td>\n",
       "      <td>B00KMRGF28_143_A2F0D5EV8ZOK44:0</td>\n",
       "      <td>It does what it advertises.</td>\n",
       "      <td>LAPTOP#GENERAL</td>\n",
       "      <td>positive</td>\n",
       "      <td>B00KMRGF28_143_A2F0D5EV8ZOK44:1</td>\n",
       "      <td>Price is great, wish it didn't have Windows 8,...</td>\n",
       "      <td>LAPTOP#PRICE</td>\n",
       "      <td>positive</td>\n",
       "      <td>B00KMRGF28_143_A2F0D5EV8ZOK44:2</td>\n",
       "      <td>...</td>\n",
       "      <td>NaN</td>\n",
       "      <td>NaN</td>\n",
       "      <td>NaN</td>\n",
       "      <td>NaN</td>\n",
       "      <td>NaN</td>\n",
       "      <td>NaN</td>\n",
       "      <td>NaN</td>\n",
       "      <td>NaN</td>\n",
       "      <td>NaN</td>\n",
       "      <td>NaN</td>\n",
       "    </tr>\n",
       "    <tr>\n",
       "      <th>449</th>\n",
       "      <td>I bought this for my daughter to use for schoo...</td>\n",
       "      <td>B00KMRGF28_302_A149BES2K4UIY1:0</td>\n",
       "      <td>Love the price too!</td>\n",
       "      <td>LAPTOP#PRICE</td>\n",
       "      <td>positive</td>\n",
       "      <td>B00KMRGF28_302_A149BES2K4UIY1:1</td>\n",
       "      <td>NaN</td>\n",
       "      <td>NaN</td>\n",
       "      <td>NaN</td>\n",
       "      <td>NaN</td>\n",
       "      <td>...</td>\n",
       "      <td>NaN</td>\n",
       "      <td>NaN</td>\n",
       "      <td>NaN</td>\n",
       "      <td>NaN</td>\n",
       "      <td>NaN</td>\n",
       "      <td>NaN</td>\n",
       "      <td>NaN</td>\n",
       "      <td>NaN</td>\n",
       "      <td>NaN</td>\n",
       "      <td>NaN</td>\n",
       "    </tr>\n",
       "  </tbody>\n",
       "</table>\n",
       "<p>450 rows × 199 columns</p>\n",
       "</div>"
      ],
      "text/plain": [
       "                             sentences/sentence/0/text  \\\n",
       "0                    Being a PC user my whole life....   \n",
       "1    the laptop was really good and it goes really ...   \n",
       "2    As a lifelong Windows user, I was extremely pl...   \n",
       "3              Oh my goodness-I am not a happy camper.   \n",
       "4    Since I purchased my Toshiba netbook, I have b...   \n",
       "..                                                 ...   \n",
       "445                            This laptop is amazing!   \n",
       "446     The HP Envy 15 has been everything I expected.   \n",
       "447      used 6 times black screen returned for refund   \n",
       "448  The Dell is quick enough, sturdy, not good wit...   \n",
       "449  I bought this for my daughter to use for schoo...   \n",
       "\n",
       "            sentences/sentence/0/_id  \\\n",
       "0                           79:00:00   \n",
       "1                              10:00   \n",
       "2                          264:00:00   \n",
       "3                           24:00:00   \n",
       "4                          277:00:00   \n",
       "..                               ...   \n",
       "445   B00KB3MXH4_22_A106YGESUYA4BP:0   \n",
       "446   B00D7Z84OY_46_A1P70MSK0HHO7K:0   \n",
       "447  B00KMRGF28_304_A35Q7MBKQZV1SA:0   \n",
       "448  B00KMRGF28_143_A2F0D5EV8ZOK44:0   \n",
       "449  B00KMRGF28_302_A149BES2K4UIY1:0   \n",
       "\n",
       "                                             sentences  \\\n",
       "0               This computer is absolutely AMAZING!!!   \n",
       "1    i would really recommend to any person out the...   \n",
       "2    As a computer science student in college, I fi...   \n",
       "3                                 My HP is very heavy.   \n",
       "4    The netbook is easier for me to take to bed an...   \n",
       "..                                                 ...   \n",
       "445                 Windows 8.1 has its pros and cons.   \n",
       "446  After doing much research for a laptop that ha...   \n",
       "447                  do not use the facial recognition   \n",
       "448                        It does what it advertises.   \n",
       "449                                Love the price too!   \n",
       "\n",
       "                    aspects  polarity         sentences/sentence/1/_id  \\\n",
       "0            LAPTOP#GENERAL  positive                         79:01:00   \n",
       "1            LAPTOP#GENERAL  positive                            10:01   \n",
       "2        LAPTOP#PORTABILITY  positive                        264:01:00   \n",
       "3    LAPTOP#DESIGN_FEATURES  negative                         24:01:00   \n",
       "4        LAPTOP#PORTABILITY  positive                        277:01:00   \n",
       "..                      ...       ...                              ...   \n",
       "445              OS#GENERAL   neutral   B00KB3MXH4_22_A106YGESUYA4BP:1   \n",
       "446  LAPTOP#DESIGN_FEATURES  positive   B00D7Z84OY_46_A1P70MSK0HHO7K:1   \n",
       "447        SOFTWARE#GENERAL  negative  B00KMRGF28_304_A35Q7MBKQZV1SA:1   \n",
       "448          LAPTOP#GENERAL  positive  B00KMRGF28_143_A2F0D5EV8ZOK44:1   \n",
       "449            LAPTOP#PRICE  positive  B00KMRGF28_302_A149BES2K4UIY1:1   \n",
       "\n",
       "                                           sentences.1  \\\n",
       "0                          10 plus hours of battery...   \n",
       "1    and its really cheap and you wont regret buyin...   \n",
       "2    without a big ol' clunky machine in my backpac...   \n",
       "3                                   Not easy to carry.   \n",
       "4    The screen takes some getting use to, because ...   \n",
       "..                                                 ...   \n",
       "445  The keyboard is backlit but you have to press ...   \n",
       "446  Amazon had the best pricing and the delivery w...   \n",
       "447     Windows 8 is not supported by a lot of things!   \n",
       "448  Price is great, wish it didn't have Windows 8,...   \n",
       "449                                                NaN   \n",
       "\n",
       "                         aspects.1 polarity.1  \\\n",
       "0    BATTERY#OPERATION_PERFORMANCE   positive   \n",
       "1                     LAPTOP#PRICE   positive   \n",
       "2           LAPTOP#DESIGN_FEATURES   positive   \n",
       "3               LAPTOP#PORTABILITY   negative   \n",
       "4                DISPLAY#USABILITY    neutral   \n",
       "..                             ...        ...   \n",
       "445       KEYBOARD#DESIGN_FEATURES   positive   \n",
       "446                            NaN        NaN   \n",
       "447                   OS#USABILITY   negative   \n",
       "448                   LAPTOP#PRICE   positive   \n",
       "449                            NaN        NaN   \n",
       "\n",
       "            sentences/sentence/2/_id  ...  \\\n",
       "0                           79:02:00  ...   \n",
       "1                              10:02  ...   \n",
       "2                          264:02:00  ...   \n",
       "3                           24:02:00  ...   \n",
       "4                          277:02:00  ...   \n",
       "..                               ...  ...   \n",
       "445   B00KB3MXH4_22_A106YGESUYA4BP:2  ...   \n",
       "446   B00D7Z84OY_46_A1P70MSK0HHO7K:2  ...   \n",
       "447  B00KMRGF28_304_A35Q7MBKQZV1SA:2  ...   \n",
       "448  B00KMRGF28_143_A2F0D5EV8ZOK44:2  ...   \n",
       "449                              NaN  ...   \n",
       "\n",
       "    sentences/sentence/7/Opinions/Opinion/2/_polarity  \\\n",
       "0                                                 NaN   \n",
       "1                                                 NaN   \n",
       "2                                                 NaN   \n",
       "3                                                 NaN   \n",
       "4                                                 NaN   \n",
       "..                                                ...   \n",
       "445                                               NaN   \n",
       "446                                               NaN   \n",
       "447                                               NaN   \n",
       "448                                               NaN   \n",
       "449                                               NaN   \n",
       "\n",
       "    sentences/sentence/16/_OutOfScope sentences/sentence/20/_OutOfScope  \\\n",
       "0                                 NaN                               NaN   \n",
       "1                                 NaN                               NaN   \n",
       "2                                 NaN                               NaN   \n",
       "3                                 NaN                               NaN   \n",
       "4                                 NaN                               NaN   \n",
       "..                                ...                               ...   \n",
       "445                               NaN                               NaN   \n",
       "446                               NaN                               NaN   \n",
       "447                               NaN                               NaN   \n",
       "448                               NaN                               NaN   \n",
       "449                               NaN                               NaN   \n",
       "\n",
       "    sentences/sentence/17/_OutOfScope  \\\n",
       "0                                 NaN   \n",
       "1                                 NaN   \n",
       "2                                 NaN   \n",
       "3                                 NaN   \n",
       "4                                 NaN   \n",
       "..                                ...   \n",
       "445                               NaN   \n",
       "446                               NaN   \n",
       "447                               NaN   \n",
       "448                               NaN   \n",
       "449                               NaN   \n",
       "\n",
       "    sentences/sentence/9/Opinions/Opinion/2/_category  \\\n",
       "0                                                 NaN   \n",
       "1                                                 NaN   \n",
       "2                                                 NaN   \n",
       "3                                                 NaN   \n",
       "4                                                 NaN   \n",
       "..                                                ...   \n",
       "445                                               NaN   \n",
       "446                                               NaN   \n",
       "447                                               NaN   \n",
       "448                                               NaN   \n",
       "449                                               NaN   \n",
       "\n",
       "    sentences/sentence/9/Opinions/Opinion/2/_polarity  \\\n",
       "0                                                 NaN   \n",
       "1                                                 NaN   \n",
       "2                                                 NaN   \n",
       "3                                                 NaN   \n",
       "4                                                 NaN   \n",
       "..                                                ...   \n",
       "445                                               NaN   \n",
       "446                                               NaN   \n",
       "447                                               NaN   \n",
       "448                                               NaN   \n",
       "449                                               NaN   \n",
       "\n",
       "    sentences/sentence/11/_OutOfScope sentences/sentence/14/_OutOfScope  \\\n",
       "0                                 NaN                               NaN   \n",
       "1                                 NaN                               NaN   \n",
       "2                                 NaN                               NaN   \n",
       "3                                 NaN                               NaN   \n",
       "4                                 NaN                               NaN   \n",
       "..                                ...                               ...   \n",
       "445                               NaN                               NaN   \n",
       "446                               NaN                               NaN   \n",
       "447                               NaN                               NaN   \n",
       "448                               NaN                               NaN   \n",
       "449                               NaN                               NaN   \n",
       "\n",
       "    sentences/sentence/2/Opinions/Opinion/4/_category  \\\n",
       "0                                                 NaN   \n",
       "1                                                 NaN   \n",
       "2                                                 NaN   \n",
       "3                                                 NaN   \n",
       "4                                                 NaN   \n",
       "..                                                ...   \n",
       "445                                               NaN   \n",
       "446                                               NaN   \n",
       "447                                               NaN   \n",
       "448                                               NaN   \n",
       "449                                               NaN   \n",
       "\n",
       "    sentences/sentence/2/Opinions/Opinion/4/_polarity  \n",
       "0                                                 NaN  \n",
       "1                                                 NaN  \n",
       "2                                                 NaN  \n",
       "3                                                 NaN  \n",
       "4                                                 NaN  \n",
       "..                                                ...  \n",
       "445                                               NaN  \n",
       "446                                               NaN  \n",
       "447                                               NaN  \n",
       "448                                               NaN  \n",
       "449                                               NaN  \n",
       "\n",
       "[450 rows x 199 columns]"
      ]
     },
     "execution_count": 2,
     "metadata": {},
     "output_type": "execute_result"
    }
   ],
   "source": [
    "#Read Dataset\n",
    "data = pd.read_csv('Train SemEval 2015 Task 12.csv')\n",
    "test = pd.read_csv('Test SemEval 2015 Task 12.csv')\n",
    "data1 = pd.read_csv('Train extended.csv')\n",
    "data1"
   ]
  },
  {
   "cell_type": "markdown",
   "metadata": {},
   "source": [
    "## Reviews and Aspect Labels"
   ]
  },
  {
   "cell_type": "code",
   "execution_count": 4,
   "metadata": {},
   "outputs": [
    {
     "data": {
      "text/plain": [
       "array([25, 28, 60, 60, 60, 26, 21, 25, 25, 43, 60,  8, 23, 60, 28, 60, 60,\n",
       "       60, 29, 23, 23, 60, 60, 60, 24, 60, 60, 23, 23, 60, 60, 58, 23, 23,\n",
       "       24, 22, 21, 24, 60, 17, 60, 24, 60, 17, 60, 60, 60,  4, 22, 60, 22,\n",
       "       60, 60, 25,  2, 60, 60, 24, 60, 60, 21, 28, 60, 60, 60, 22,  8, 22,\n",
       "        7, 22, 60, 60, 23, 60, 60, 23, 40, 25, 60, 60, 60, 60, 60, 60, 60,\n",
       "       25, 23, 60, 60, 23,  6, 60, 60, 60, 10, 23, 25, 24, 24, 25, 23, 40,\n",
       "       60, 60, 25, 60, 25, 23, 22, 28,  2, 40,  2, 58,  0, 35, 29, 60, 29,\n",
       "       18, 22, 22, 60, 60, 60, 60, 60, 60, 60, 23, 60, 60,  8, 25, 25, 60,\n",
       "       50, 60, 24, 60, 60, 60, 60, 28, 25, 60,  4, 34,  1, 25, 25, 60, 29,\n",
       "       23, 18, 60, 21, 43, 24, 22, 56, 47, 60, 10, 23, 60, 43, 60, 17, 60,\n",
       "       47, 27, 60])"
      ]
     },
     "execution_count": 4,
     "metadata": {},
     "output_type": "execute_result"
    }
   ],
   "source": [
    "#Reviews and Aspect Labels\n",
    "train_sen1 = data.iloc[:,0]\n",
    "train_sen2 = data.iloc[:,3]\n",
    "train_sen3 = data.iloc[:,6]\n",
    "train_sen4 = data1.iloc[:,2]\n",
    "train_sen5 = data1.iloc[:,6]\n",
    "test_sen = test.iloc[:,10]\n",
    "test_aspect = test.iloc[:,11]\n",
    "aspect_sen1 = data.iloc[:,1]\n",
    "aspect_sen2 = data.iloc[:,4]\n",
    "aspect_sen3 = data.iloc[:,7]\n",
    "aspect_sen4 = data1.iloc[:,3]\n",
    "aspect_sen5 = data1.iloc[:,7]\n",
    "aspect_sen = aspect_sen1.append(aspect_sen2)\n",
    "aspect_sen = aspect_sen.append(aspect_sen3)\n",
    "aspect_sen = aspect_sen.append(aspect_sen4)\n",
    "aspect_sen = aspect_sen.append(aspect_sen5)\n",
    "aspects = aspect_sen.append(test_aspect)\n",
    "train_sen = train_sen1.append(train_sen2)\n",
    "train_sen = train_sen.append(train_sen3)\n",
    "train_sen = train_sen.append(train_sen4)\n",
    "train_sen = train_sen.append(train_sen5)\n",
    "train_sen = train_sen.astype(str)\n",
    "test_sen = test_sen.astype(str)\n",
    "aspects = aspects.astype(str)\n",
    "from sklearn import preprocessing\n",
    "pre1 = preprocessing.LabelEncoder()\n",
    "aspects = pre1.fit_transform(aspects)\n",
    "aspects_train = aspects[:1731]\n",
    "aspects_test = aspects[1731:]\n",
    "aspects_train = np.asarray(aspects_train)\n",
    "aspects_test = np.asarray(aspects_test)\n",
    "aspects_test"
   ]
  },
  {
   "cell_type": "markdown",
   "metadata": {},
   "source": [
    "## Tokenization"
   ]
  },
  {
   "cell_type": "code",
   "execution_count": 5,
   "metadata": {},
   "outputs": [
    {
     "name": "stdout",
     "output_type": "stream",
     "text": [
      "{'<OOV>': 1, 'the': 2, 'i': 3, 'it': 4, 'and': 5, 'to': 6, 'a': 7, 'is': 8, 'for': 9, 'of': 10, 'this': 11, 'my': 12, 'have': 13, 'laptop': 14, 'that': 15, 'with': 16, 'computer': 17, 'was': 18, 'not': 19, 'in': 20, 'nan': 21, 'on': 22, 'very': 23, 'but': 24, 'use': 25, 'great': 26, 'had': 27, 'so': 28, 'you': 29, 'has': 30, 'as': 31, 'one': 32, 'all': 33, 'easy': 34, 'me': 35, 'only': 36, 'battery': 37, 'good': 38, 'just': 39, 'bought': 40, 'up': 41, 'be': 42, 'after': 43, 'do': 44, 'are': 45, 'macbook': 46, 'love': 47, 'its': 48, 'well': 49, 'no': 50, 'screen': 51, 'more': 52, 'am': 53, \"it's\": 54, 'life': 55, 'toshiba': 56, 'like': 57, 'about': 58, 'mac': 59, 'from': 60, 'get': 61, 'than': 62, 'would': 63, 'time': 64, 'really': 65, 'windows': 66, 'first': 67, 'pro': 68, 'or': 69, 'out': 70, 'they': 71, 'everything': 72, 'product': 73, 'price': 74, 'can': 75, 'at': 76, 'any': 77, 'pc': 78, 'work': 79, 'will': 80, '2': 81, 'an': 82, 'quality': 83, 'when': 84, 'months': 85, 'keyboard': 86, \"i've\": 87, 'if': 88, 'what': 89, 'then': 90, 'we': 91, 'fast': 92, 'hard': 93, 'drive': 94, 'got': 95, 'because': 96, 'problems': 97, \"don't\": 98, 'buy': 99, 'never': 100, 'ever': 101, 'machine': 102, 'speed': 103, 'much': 104, 'need': 105, 'long': 106, 'back': 107, 'since': 108, 'purchased': 109, '1': 110, \"i'm\": 111, 'laptops': 112, 'apple': 113, 'been': 114, 'little': 115, 'used': 116, 'years': 117, 'even': 118, '7': 119, 'also': 120, 'thing': 121, 'best': 122, 'does': 123, 'which': 124, 'by': 125, 'perfect': 126, 'new': 127, 'works': 128, 'needs': 129, 'still': 130, 'system': 131, 'power': 132, 'software': 133, 'there': 134, 'slow': 135, 'netbook': 136, 'graphics': 137, 'dell': 138, 'some': 139, '3': 140, 'over': 141, 'how': 142, 'other': 143, 'features': 144, 'were': 145, 'went': 146, 'hp': 147, 'awesome': 148, 'now': 149, \"can't\": 150, 'pad': 151, 'notebook': 152, 'could': 153, 'size': 154, 'another': 155, 'working': 156, 'better': 157, 'way': 158, 'happy': 159, 'amazing': 160, 'bad': 161, 'right': 162, 'day': 163, 'money': 164, 'display': 165, 'always': 166, 'most': 167, 'problem': 168, 'excellent': 169, 'owned': 170, 'want': 171, 'nice': 172, 'did': 173, 'needed': 174, 'too': 175, 'performance': 176, 'home': 177, 'top': 178, 'around': 179, 'internet': 180, 'make': 181, 'their': 182, '5': 183, 'able': 184, 'light': 185, 'enough': 186, 'games': 187, 'web': 188, 'design': 189, 'them': 190, 'take': 191, 'desktop': 192, 'looking': 193, 'far': 194, 'made': 195, 'worth': 196, 'took': 197, 'small': 198, 'say': 199, 'your': 200, 'both': 201, 'month': 202, 'few': 203, 'while': 204, 'again': 205, 'going': 206, 'without': 207, 'carry': 208, 'help': 209, 'key': 210, 'hours': 211, 'overall': 212, 'before': 213, 'mouse': 214, 'open': 215, 'programs': 216, 'send': 217, 'having': 218, 'two': 219, 'three': 220, 'our': 221, 'ease': 222, 'using': 223, 'deal': 224, 'pcs': 225, 'memory': 226, 'every': 227, 'runs': 228, 'into': 229, 'many': 230, 'school': 231, 'year': 232, 'weeks': 233, 'email': 234, 'operating': 235, 'same': 236, 'stopped': 237, '10': 238, '8': 239, 'sound': 240, 'feel': 241, 'being': 242, 'wonderful': 243, 'replaced': 244, 'box': 245, 'worked': 246, 'once': 247, 'gaming': 248, 'though': 249, 'user': 250, 'getting': 251, 'fine': 252, 'nothing': 253, 'tell': 254, 'hate': 255, 'college': 256, 'something': 257, 'recommend': 258, 'last': 259, 'start': 260, 'bit': 261, 'see': 262, 'things': 263, 'line': 264, '4': 265, 'touch': 266, 'repair': 267, 'glad': 268, 'os': 269, 'found': 270, 'support': 271, 'music': 272, 'big': 273, 'run': 274, 'build': 275, 'wanted': 276, 'replace': 277, 'service': 278, 'port': 279, 'warranty': 280, 'weight': 281, 'charge': 282, 'online': 283, 'old': 284, 'find': 285, 'etc': 286, 'extra': 287, 'through': 288, 'play': 289, 'came': 290, 'almost': 291, 'different': 292, 'starter': 293, 'warrenty': 294, 'dvd': 295, 'understand': 296, 'high': 297, 'seems': 298, 'hardware': 299, \"didn't\": 300, \"doesn't\": 301, 'trying': 302, 'already': 303, 'look': 304, 'worst': 305, 'touchpad': 306, 'repaired': 307, 'business': 308, 'less': 309, 'phone': 310, 'satellite': 311, 'short': 312, 'speakers': 313, 'computers': 314, 'ago': 315, 'super': 316, 'quite': 317, 'pretty': 318, 'fix': 319, 'upgrade': 320, 'side': 321, 'office': 322, 'processor': 323, 'later': 324, 'thought': 325, 'change': 326, 'value': 327, 'done': 328, 'mine': 329, 'usb': 330, 'come': 331, 'days': 332, 'called': 333, 'built': 334, 'family': 335, 'purchase': 336, 'several': 337, 'set': 338, 'lightweight': 339, 'tried': 340, 'buttons': 341, 'easily': 342, 'know': 343, \"won't\": 344, 'go': 345, 'keep': 346, 'think': 347, 'week': 348, 'next': 349, 'designed': 350, 'making': 351, 'such': 352, 'past': 353, 'person': 354, 'taking': 355, 'however': 356, 'solid': 357, 'connect': 358, 'issue': 359, 'gift': 360, 'cheap': 361, 'benefits': 362, 'hour': 363, '15': 364, 'twice': 365, 'kind': 366, 'own': 367, 'broke': 368, 'gets': 369, 'sometimes': 370, 'her': 371, 'might': 372, 'who': 373, 'fact': 374, 'should': 375, 'ram': 376, 'let': 377, 'defective': 378, 'plenty': 379, 'satisfied': 380, 'cd': 381, 'seen': 382, 'free': 383, 'maybe': 384, 'portability': 385, 'heavy': 386, 'wireless': 387, 'anywhere': 388, 'fixed': 389, 'viruses': 390, 'times': 391, 'learn': 392, 'issues': 393, 'call': 394, 'takes': 395, 'constantly': 396, 'cost': 397, 'webcam': 398, 'durable': 399, 'case': 400, 'definitely': 401, 'delivery': 402, 'editing': 403, 'expected': 404, 'worse': 405, 'started': 406, 'within': 407, 'apart': 408, 'lot': 409, 'meets': 410, 'off': 411, '6': 412, 'browsing': 413, 'him': 414, 'personal': 415, 'daughter': 416, 'book': 417, 'supply': 418, 'early': 419, 'model': 420, 'w': 421, 'hot': 422, 'down': 423, 'mail': 424, 'easier': 425, 'volume': 426, 'front': 427, 'vista': 428, 'basic': 429, 'wish': 430, '13': 431, 'applications': 432, 'keys': 433, 'return': 434, 'company': 435, 'although': 436, 'difference': 437, \"wasn't\": 438, 'resolution': 439, 'spent': 440, 'shows': 441, 'instead': 442, 'disk': 443, 'single': 444, 'itself': 445, 'left': 446, 'board': 447, 'clear': 448, 'tech': 449, 'held': 450, 'told': 451, 'plus': 452, 'replacement': 453, 'average': 454, 'anything': 455, 'type': 456, 'given': 457, 'track': 458, 'extremely': 459, 'simple': 460, 'keeps': 461, 'friend': 462, 'owning': 463, 'looks': 464, 'he': 465, 'anyone': 466, 'previous': 467, 'sized': 468, 'lots': 469, 'processing': 470, 'word': 471, 'services': 472, 'quick': 473, 'world': 474, 'impressed': 475, 'she': 476, 'doing': 477, 'makes': 478, 'mostly': 479, 'awful': 480, \"you're\": 481, 'macs': 482, 'including': 483, 'acer': 484, 'give': 485, 'space': 486, 'try': 487, 'exceeded': 488, 'freezing': 489, 'brand': 490, 'couple': 491, 'student': 492, 'gave': 493, 'point': 494, 'hook': 495, 'network': 496, 'finding': 497, 'large': 498, 'move': 499, 'cannot': 500, 'nightmare': 501, 'real': 502, 'error': 503, 'various': 504, 'uses': 505, 'wife': 506, 'said': 507, 'decision': 508, 'regular': 509, 'travel': 510, 'microsoft': 511, \"couldn't\": 512, 'hd': 513, 'card': 514, 'store': 515, 'depot': 516, 'worry': 517, 'forced': 518, 'turn': 519, 'listen': 520, 'videos': 521, 'finally': 522, 'exchanged': 523, 'page': 524, 'poorly': 525, 'parents': 526, 'stuff': 527, 'boy': 528, 'ordered': 529, 'check': 530, 'write': 531, 'expect': 532, 'save': 533, 'charger': 534, 'kids': 535, 'wifi': 536, 'else': 537, 'external': 538, 'retina': 539, 'goes': 540, 'pleased': 541, 'away': 542, 'customer': 543, 'absolutely': 544, 'except': 545, 'loved': 546, 'i5': 547, 'recommended': 548, 'fit': 549, 'purchasing': 550, 'computing': 551, 'above': 552, 'serves': 553, 'husband': 554, 'buying': 555, 'surfing': 556, 'portable': 557, 'received': 558, 'o': 559, 'summary': 560, 'dont': 561, 'research': 562, 'probably': 563, 'strong': 564, 'device': 565, 'daily': 566, 'compact': 567, 'people': 568, 'barely': 569, 'pricey': 570, 'someone': 571, 'flawlessly': 572, 'everyday': 573, 'video': 574, 'models': 575, 'graphic': 576, '100': 577, 'unit': 578, 'decided': 579, 'market': 580, 'asus': 581, 'part': 582, 'switch': 583, 'sure': 584, 'black': 585, 'compaq': 586, 'here': 587, 'drawback': 588, 'friendly': 589, 'faster': 590, 'fits': 591, 'paying': 592, 'plug': 593, 'camera': 594, 'monitor': 595, 'included': 596, 'bigger': 597, 'number': 598, 'place': 599, 'returned': 600, 'watch': 601, 'trial': 602, 'minutes': 603, 'complain': 604, 'crashes': 605, 'facebook': 606, 'speaker': 607, 'programming': 608, 'yes': 609, 'burner': 610, 'running': 611, 'access': 612, 'standard': 613, 'extended': 614, 'aware': 615, 'comes': 616, 'hooked': 617, 'functions': 618, 'incredibly': 619, \"haven't\": 620, 'major': 621, 'failed': 622, 'trip': 623, 'gorgeous': 624, 'second': 625, 'enjoy': 626, 'lasting': 627, 'paid': 628, 'full': 629, 'investment': 630, 'believe': 631, 'biggest': 632, 'previously': 633, 'until': 634, 'under': 635, 'media': 636, 'reliable': 637, 'completely': 638, 'fantastic': 639, 'general': 640, 'expectations': 641, 'storage': 642, 'imagine': 643, 'im': 644, 'boot': 645, 'exactly': 646, \"there's\": 647, 'course': 648, 'intuitive': 649, 'died': 650, 'rest': 651, 'cause': 652, 'homework': 653, 'yahoo': 654, 'beat': 655, 'wheel': 656, 'blank': 657, 'pick': 658, 'dislike': 659, 'reasonable': 660, 'hsn': 661, 'enable': 662, 'clarity': 663, 'wonder': 664, 'environment': 665, 'spend': 666, 'between': 667, 'met': 668, 'requirements': 669, 'game': 670, 'install': 671, 'apps': 672, 'data': 673, 'favorite': 674, 'bummer': 675, 'pointer': 676, '1st': 677, 'seamless': 678, 'lasted': 679, 's': 680, 'files': 681, 'brought': 682, 'expensive': 683, 'professional': 684, 'depending': 685, 'add': 686, 'gb': 687, 'shipped': 688, 'fabulous': 689, 'adding': 690, 'crap': 691, 'bugged': 692, 'block': 693, 'loaded': 694, 'downfall': 695, 'control': 696, 'fan': 697, 'feature': 698, 'machines': 699, 'graduation': 700, 'dollars': 701, 'broken': 702, 'sent': 703, 'loud': 704, 'headphones': 705, 'these': 706, 'custom': 707, 'techie': 708, 'turns': 709, 'technical': 710, 'powerful': 711, 'opinion': 712, 'shop': 713, 'tv': 714, 'idea': 715, 'smoothly': 716, 'seconds': 717, 'fi': 718, 'regret': 719, 'connected': 720, 'giving': 721, 'notebooks': 722, 'teaching': 723, 'pictures': 724, 'picture': 725, 'weak': 726, 'win': 727, 'country': 728, 'live': 729, '0': 730, 'fell': 731, 'why': 732, 'suggest': 733, 'background': 734, 'via': 735, 'garageband': 736, 'cool': 737, 'reputation': 738, 'mic': 739, 'freezes': 740, 'restart': 741, 'quiet': 742, 'difficult': 743, 'internal': 744, 'cord': 745, 'awesomest': 746, 'blue': 747, 'crashing': 748, 'playing': 749, 'putting': 750, 'date': 751, 'adapter': 752, 'terms': 753, 'dust': 754, 'reinstall': 755, 'beautiful': 756, 'lenovo': 757, 'whole': 758, 'loads': 759, 'sleek': 760, 'lacking': 761, 'receive': 762, 'operation': 763, 'piece': 764, 'covers': 765, 'wires': 766, 'wait': 767, 'expired': 768, 'apparently': 769, 'lack': 770, 'level': 771, 'his': 772, 'child': 773, 'ideal': 774, 'job': 775, 'navigate': 776, 'nicely': 777, 'movie': 778, 'saying': 779, 'update': 780, 'button': 781, '3rd': 782, 'experience': 783, 'constant': 784, 'mom': 785, 'reports': 786, \"pc's\": 787, 'clean': 788, 'smooth': 789, 'ask': 790, 'sense': 791, 'longer': 792, 'hrs': 793, 'premium': 794, 'rather': 795, 'i7': 796, 'inch': 797, 'room': 798, 'preloaded': 799, 'websites': 800, 'complaint': 801, 'pay': 802, 'edge': 803, 'artist': 804, 'class': 805, 'ok': 806, 'unlike': 807, 'baby': 808, 'booting': 809, '2007': 810, 'beginning': 811, 'simply': 812, 'may': 813, 'heck': 814, 'horse': 815, 'everyone': 816, 'switched': 817, 'unibody': 818, 'story': 819, 'leaves': 820, 'alot': 821, 'specifications': 822, \"you'll\": 823, \"they're\": 824, 'besides': 825, 'plan': 826, 'gateway': 827, 'nov': 828, 'push': 829, 'result': 830, 'sucks': 831, 'complaints': 832, \"isn't\": 833, 'adapt': 834, 'backlit': 835, 'reason': 836, 'bar': 837, 'frustrating': 838, 'ipad': 839, 'learning': 840, 'curve': 841, 'lighter': 842, 'gamer': 843, 'colors': 844, 'provides': 845, 'doesnt': 846, 'advanced': 847, 'sensitive': 848, 'priced': 849, 'review': 850, 'seeing': 851, 'amount': 852, 'cable': 853, 'vga': 854, 'sharp': 855, 'u': 856, 'hold': 857, 'functionality': 858, 'kinda': 859, 'lock': 860, 'july': 861, 'performing': 862, 'six': 863, 'ports': 864, 'mid': 865, 'those': 866, 'resolved': 867, 'put': 868, 'security': 869, 'post': 870, 'load': 871, 'shuts': 872, 'isnt': 873, 'wear': 874, 'sit': 875, 'often': 876, 'movies': 877, 'xp': 878, 'ran': 879, 'normal': 880, 'sales': 881, 'looked': 882, 'poor': 883, 'disappointing': 884, 'impossible': 885, 'wi': 886, 'four': 887, 'wont': 888, 'clunky': 889, 'breaks': 890, 'blazing': 891, 'winner': 892, 'properly': 893, 'upset': 894, 'somewhat': 895, 'stars': 896, 'loves': 897, 'stuck': 898, 'led': 899, 'calls': 900, 'terrible': 901, 'ones': 902, 'font': 903, 'factor': 904, 'either': 905, 'speedy': 906, 'regardless': 907, 'connection': 908, 'delivers': 909, 'criteria': 910, 'purposes': 911, 'turned': 912, 'e': 913, 'cant': 914, 'jumped': 915, 'exposed': 916, 'crystal': 917, 'responsive': 918, 'each': 919, 'reach': 920, 'saw': 921, 'reliability': 922, 'notch': 923, 'browser': 924, 'ethernet': 925, 'where': 926, 'non': 927, 'nearly': 928, 'trouble': 929, 'excel': 930, \"that's\": 931, 'decent': 932, 'amazon': 933, 'waited': 934, 'us': 935, 'plastic': 936, 'crashed': 937, 'whatever': 938, 'perfectly': 939, 'bill': 940, 'advertised': 941, '17': 942, 'son': 943, 'surprised': 944, 'searching': 945, 'lap': 946, '16': 947, '2nd': 948, 'checking': 949, 'watching': 950, \"let's\": 951, 'opened': 952, 'beauty': 953, 'offers': 954, 'become': 955, 'pros': 956, '2005': 957, 'stunning': 958, 'intel': 959, 'moment': 960, 'present': 961, 'disappointment': 962, 'virus': 963, '2009': 964, 'pavilion': 965, 'unable': 966, 'boyfriend': 967, 'science': 968, 'longevity': 969, 'shockingly': 970, 'bed': 971, 'sitting': 972, 'pages': 973, 'overheat': 974, 'taken': 975, 'printers': 976, 'headsets': 977, 'concerned': 978, 'pleasant': 979, 'surprise': 980, '9': 981, 'tag': 982, 'hassle': 983, 'repeated': 984, 'assistance': 985, 'bellying': 986, 'genius': 987, 'geek': 988, 'squad': 989, 'guys': 990, 'arent': 991, 'anymore': 992, 'securely': 993, 'attached': 994, 'convienent': 995, 'replacing': 996, 'lighted': 997, 'quit': 998, 'mind': 999, 'usable': 1000, 'toy': 1001, 'not\\xa0': 1002, 'ths': 1003, 'unprecedented': 1004, 'low': 1005, 'affordability': 1006, 'cubersome': 1007, 'carrying': 1008, 'cases': 1009, 'supplier': 1010, 'nature': 1011, 'broad': 1012, 'dark': 1013, 'letters': 1014, 'avid': 1015, 'ascer': 1016, 'cheaper': 1017, 'equal': 1018, 'enjoying': 1019, 'sharpness': 1020, 'imformative': 1021, 'alerts': 1022, 'tutorials': 1023, 'technologically': 1024, 'beyond': 1025, 'duty': 1026, 'happier': 1027, 'effort': 1028, 'objection': 1029, 'charges': 1030, 'teacher': 1031, 'budget': 1032, 'shipping': 1033, 'tax': 1034, 'ca': 1035, 'especially': 1036, 'wt': 1037, 'accommodates': 1038, 'hands': 1039, 'fantasic': 1040, 'insane': 1041, 'lcd': 1042, 'children': 1043, 'temp': 1044, 'tad': 1045, 'bias': 1046, 'transition': 1047, 'refurbished': 1048, 'cae': 1049, 'pray': 1050, 'prolems': 1051, 'demonstrated': 1052, '75': 1053, 'kitchen': 1054, 'table': 1055, 'testing': 1056, 'modern': 1057, 'useful': 1058, 'designers': 1059, 'area': 1060, 'performed': 1061, 'bookkeeping': 1062, 'decreased': 1063, 'thrilled': 1064, 'recovey': 1065, 'wouldnt': 1066, 'passed': 1067, 'recovery': 1068, 'caused': 1069, 'jump': 1070, 'registration': 1071, 'interfaces': 1072, 'purses': 1073, 'economy': 1074, 'bid': 1075, 'mainly': 1076, 'managing': 1077, 'pics': 1078, 'vids': 1079, 'defects': 1080, 'treated': 1081, 'incredible': 1082, '11': 1083, 'configure': 1084, 'settings': 1085, 'simplicity': 1086, '720p': 1087, '1080p': 1088, 'cutting': 1089, 'l455d': 1090, 'workhorse': 1091, 'ups': 1092, 'disappointments': 1093, 'stinks': 1094, 'skype': 1095, 'hinge': 1096, 'connections': 1097, 'depot\\xa0': 1098, 'june': 1099, '24': 1100, 'xl': 1101, 'served': 1102, 'improvements': 1103, 'existing': 1104, 'bumping': 1105, 'thunderbolt': 1106, 'actually': 1107, 'mother': 1108, 'agreed': 1109, 'responds': 1110, 'adobe': 1111, 'creative': 1112, 'efficiently': 1113, 'generic': 1114, 'continues': 1115, 'carved': 1116, 'aluminum': 1117, 'disapeared': 1118, 'downloaded': 1119, 'preformed': 1120, 'edition': 1121, 'explorer': 1122, 'land': 1123, 'myself': 1124, 'amd': 1125, 'semprom': 1126, 'ghz': 1127, 'town': 1128, '90s': 1129, 'higher': 1130, 'knows': 1131, 'manufacturing': 1132, 'defect': 1133, 'acknowledge': 1134, 'minor': 1135, 'quickly': 1136, 'vents': 1137, 'cooling': 1138, 'netbooks': 1139, 'together': 1140, 'plastic\\xa0pieces\\xa0would': 1141, 'totally': 1142, 'obsessed': 1143, 'generous': 1144, 'calling': 1145, 'assuring': 1146, 'connector': 1147, 'shortly': 1148, 'expires': 1149, 'film': 1150, 'production': 1151, 'primary': 1152, 'secondary': 1153, 'sub': 1154, 'par': 1155, 'textured': 1156, 'surface': 1157, 'fingerprints': 1158, 'worrying': 1159, 'quitting': 1160, 'prior': 1161, 'powerbook': 1162, 'g4': 1163, 'ive': 1164, 'main': 1165, 'desinged': 1166, '2200': 1167, 'elegant': 1168, 'blinks': 1169, 'discover': 1170, 'staples': 1171, 'luxury': 1172, 'sarcasm': 1173, 'due': 1174, 'accent': 1175, 'bundled': 1176, 'flight': 1177, 'airports': 1178, 'trips': 1179, 'agree': 1180, 'comment': 1181, 'horrible': 1182, 'con': 1183, 'blogs': 1184, 'papers': 1185, 'capable': 1186, 'credit': 1187, 'magnetically': 1188, 'flat': 1189, 'dies': 1190, 'loose': 1191, 'documents': 1192, 'mc373ll': 1193, '66ghz': 1194, 'macboook': 1195, 'tons': 1196, 'bloatware': 1197, 'junk': 1198, '18': 1199, '10th': 1200, 'soon': 1201, 'moving': 1202, 'finger': 1203, 'compared': 1204, 'weaknesses': 1205, 'videocard': 1206, 'fathom': 1207, 'celebrated': 1208, 'competition': 1209, 'products': 1210, 'survives': 1211, 'b': 1212, 'c': 1213, 'substandard': 1214, 'onto': 1215, 'captive': 1216, 'students': 1217, 'employees': 1218, 'question': 1219, 'raising': 1220, 'immediate': 1221, 'acting': 1222, 'fires': 1223, 'morning': 1224, '30': 1225, 'operate': 1226, 'gadgets': 1227, 'rolls': 1228, 'royce': 1229, 'waste': 1230, 'falling': 1231, 'internally': 1232, 'externally': 1233, 'talking': 1234, 'knowledgeable': 1235, 'associate': 1236, 'chose': 1237, 'white': 1238, 'appealing': 1239, 'm': 1240, '50': 1241, '150': 1242, 'holding': 1243, 'ten': 1244, \"ol'\": 1245, 'backpack': 1246, 'smaller': 1247, 'networks': 1248, 'highest': 1249, 'available': 1250, 'setting': 1251, 'edgy': 1252, 'burning': 1253, \"dvd'd\": 1254, 'during': 1255, \"manufacturer's\": 1256, 'parts': 1257, 'suffice': 1258, 'devices': 1259, 'stay': 1260, 'cr': 1261, 'rating': 1262, 'electronics': 1263, 'exceptional': 1264, 'wasy': 1265, 'appearance': 1266, 'placement': 1267, 'peformance': 1268, 'occasional': 1269, 'surfer': 1270, 'limiting': 1271, 'hafe': 1272, 'crisp': 1273, 'schools': 1274, 'rated': 1275, 'hesitate': 1276, 'true': 1277, \"eye'd\": 1278, 'bag': 1279, 'tap': 1280, 'equipment': 1281, 'complicated': 1282, 'routes': 1283, 'purpose': 1284, 'astonishing': 1285, 'otherwise': 1286, 'stand': 1287, 'ability': 1288, 'drop': 1289, 'bucks': 1290, 'robust': 1291, 'versions': 1292, 'grab': 1293, '2gb': 1294, 'stick': 1295, 'spice': 1296, 'balance': 1297, 'roles': 1298, 'manage': 1299, 'efficient': 1300, 'arrived': 1301, 'twin': 1302, 'packing': 1303, 'sealed': 1304, 'equipped': 1305, 'upgrading': 1306, 'thru': 1307, 'snap': 1308, 'indirectly': 1309, 'tranferring': 1310, 'kidding': 1311, 'history': 1312, 'list': 1313, 'actual': 1314, 'chat': 1315, 'contacted': 1316, 'hp\\xa0\\xa0about': 1317, 'situation': 1318, 'excuses': 1319, 'results': 1320, 'entire': 1321, 'living': 1322, 'plugged': 1323, \"i'll\": 1324, 'unfortunately': 1325, 'nephews': 1326, 'homeschool': 1327, 'desk': 1328, 'illustrating': 1329, 'skipping': 1330, \"she'd\": 1331, 'toshib': 1332, 'force': 1333, 'durability': 1334, 'unparalleled': 1335, 'compatible': 1336, 'frills': 1337, 'important': 1338, 'player': 1339, 'warcraft': 1340, 'wonderfully': 1341, 'aside': 1342, 'cheapest': 1343, 'planning': 1344, 'wonderfull': 1345, 'suggestions': 1346, 'fixing': 1347, 'terrific': 1348, 'bootcamp': 1349, 'default': 1350, 'occassionaly': 1351, 'vpn': 1352, 'newer': 1353, 'shut': 1354, 'unexpectedly': 1355, 'froze': 1356, 'malfunctioning': 1357, 'comparison': 1358, 'style': 1359, 'aprehensive': 1360, 'sophisticated': 1361, 'upgraded': 1362, 'base': 1363, 'wall': 1364, 'tosiba': 1365, 'llast': 1366, 'fancy': 1367, 'confident': 1368, 'appreciate': 1369, 'underscores': 1370, 'headphone': 1371, 'jack': 1372, 'mention': 1373, 'handed': 1374, 'bother': 1375, 'walmart': 1376, 'com': 1377, 'wirelessly': 1378, 'least': 1379, 'slowdown': 1380, 'locked': 1381, 'picked': 1382, 'definition': 1383, 'stability': 1384, 'stands': 1385, 'fingers': 1386, 'thinking': 1387, 'bright': 1388, 'novice': 1389, 'development': 1390, 'opted': 1391, 'lowest': 1392, 'end': 1393, 'holds': 1394, 'fuction': 1395, 'webpages': 1396, 'tower': 1397, 'stylish': 1398, 'forgot': 1399, 'hdmi': 1400, 'html': 1401, 'finances': 1402, 'scheduling': 1403, 'expenses': 1404, 'grew': 1405, 'bluray': 1406, 'read': 1407, 'local': 1408, 'today': 1409, 'investigation': 1410, 'nb205s': 1411, 'chronically': 1412, 'developed': 1413, 'ownership': 1414, 'covered': 1415, 'applecare': 1416, 'sends': 1417, 'screwed': 1418, 'snail': 1419, 'crawl': 1420, 'tim': 1421, 'unless': 1422, 'de': 1423, 'areas': 1424, \"toshiba's\": 1425, 'overheats': 1426, 'coming': 1427, 'core': 1428, 'crash': 1429, 'theirs': 1430, 'stack': 1431, 'against': 1432, 'antivirus': 1433, 'firewall': 1434, 'death': 1435, \"'old'\": 1436, 'indeed': 1437, 'letter': 1438, 'costed': 1439, '175': 1440, 'certain': 1441, 'becomes': 1442, 'had\\xa0a\\xa0compaq': 1443, 'pasaro\\xa0for': 1444, 'dangerous': 1445, 'emitting': 1446, 'heat': 1447, 'anyways': 1448, 'kept': 1449, 'message': 1450, 'vibration': 1451, 'temporaly': 1452, 'zone': 1453, 'young': 1454, 'lady': 1455, 'california': 1456, 'subsequently': 1457, 'current': 1458, 'asking': 1459, 'components': 1460, 'stops': 1461, 'classroom': 1462, \"it'll\": 1463, 'probbly': 1464, 'indent': 1465, 'luck': 1466, \"they've\": 1467, 'collectors': 1468, 'race': 1469, 'handiecap': 1470, 'races': 1471, 'proprietary': 1472, 'drivers': 1473, 'truly': 1474, 'packages': 1475, 'iwork': 1476, 'imovie': 1477, 'loss': 1478, 'field': 1479, 'crapped': 1480, 'posted': 1481, '2010': 1482, '700': 1483, 'rate': 1484, 'determined': 1485, 'dependable': 1486, 'operations': 1487, 'of\\xa0the': 1488, 'trend': 1489, 'micro': 1490, 'antiviral': 1491, 'program': 1492, 'tutorial': 1493, 'honest': 1494, 'complex': 1495, 'analysis': 1496, 'frustrated': 1497, 'systems': 1498, 'swore': 1499, 'consider': 1500, 'zero': 1501, 'contain': 1502, 'flash': 1503, 'eventually': 1504, 'recent': 1505, 'safari': 1506, 'freaking': 1507, 'firefox': 1508, 'gives': 1509, 'function': 1510, 'insert': 1511, 'test': 1512, 'wide': 1513, 'department': 1514, 'exhaust': 1515, 'browse': 1516, 'literally': 1517, 'lags': 1518, 'liked': 1519, 'returning': 1520, 'protector': 1521, 'road': 1522, 'red': 1523, 'matte': 1524, 'likes': 1525, 'mike': 1526, 'cables': 1527, 'handle': 1528, 'figured': 1529, \"i'd\": 1530, 'press': 1531, 'download': 1532, '2014': 1533, 'larger': 1534, 'highly': 1535, 'state': 1536, 'feels': 1537, 'star': 1538, 'late': 1539, 'lifelong': 1540, 'oh': 1541, 'goodness': 1542, 'camper': 1543, 'laptob': 1544, 'qosmio': 1545, 'father': 1546, 'gotten': 1547, 'expectation': 1548, 'capacity': 1549, 'plain': 1550, 'dependability': 1551, 'shown': 1552, 'salesman': 1553, 'talked': 1554, 'heard': 1555, 'improving': 1556, 'outstanding': 1557, 'excited': 1558, 'l455': 1559, 'bonus': 1560, 'rarely': 1561, 'saved': 1562, 'personally': 1563, 'moth': 1564, 'hardrive': 1565, 'original': 1566, 'vacation': 1567, 'lugging': 1568, 'heavier': 1569, 'image': 1570, 'soud': 1571, 'excelent': 1572, 'glass': 1573, 'senior': 1574, 'affecting': 1575, 'arthritis': 1576, 'needless': 1577, 'winning': 1578, 'combination': 1579, 'greatest': 1580, 'investments': 1581, 'consumer': 1582, 'report': 1583, 'resolutions': 1584, 'affordable': 1585, 'entry': 1586, 'casing': 1587, 'largest': 1588, 'action': 1589, 'pack': 1590, 'financially': 1591, 'self': 1592, 'employed': 1593, 'kyle': 1594, 'oldest': 1595, '12': 1596, 'reg': 1597, \"dosen't\": 1598, 'companion': 1599, 'head': 1600, 'shoulders': 1601, 'awsome': 1602, 'althougth': 1603, 'secure': 1604, 'specifially': 1605, 'attending': 1606, 'schooling': 1607, 'macconnection': 1608, 'net': 1609, 'operates': 1610, 'traveling': 1611, 'functional': 1612, 'shopped': 1613, 'okay': 1614, 'techy': 1615, 'labtop': 1616, 'mini': 1617, 'nb': 1618, '305': 1619, 'n410bl': 1620, 'break': 1621, 'downs': 1622, 'hotlines': 1623, 'shutting': 1624, 'headache': 1625, 'macbooks': 1626, 'intuition': 1627, 'technological': 1628, 'advances': 1629, 'associated': 1630, 'third': 1631, 'netboook': 1632, 'helping': 1633, 'buyer': 1634, 'amazed': 1635, 'lasts': 1636, 'response': 1637, \"she's\": 1638, 'focused': 1639, 'activity': 1640, 'osx': 1641, 'unexpected': 1642, 'pluses': 1643, 'fun': 1644, 'era': 1645, 'satisfy': 1646, 'ratio': 1647, 'oline': 1648, 'classes': 1649, 'upgreade': 1650, 'patches': 1651, 'hack': 1652, 'sells': 1653, 'sacrificing': 1654, 'couldnt': 1655, 'adjustment': 1656, 'knapsack': 1657, 'text': 1658, 'books': 1659, 'adds': 1660, '4in': 1661, 'waiting': 1662, 'issued': 1663, 'yet': 1664, 'wal': 1665, 'mart': 1666, 'item': 1667, 'ton': 1668, 'compliments': 1669, 'speaking': 1670, 'regularly': 1671, 'commutes': 1672, 'bus': 1673, 'attest': 1674, 'restricted': 1675, 'width': 1676, 'body': 1677, 'owner': 1678, 'satalite': 1679, 'performs': 1680, 'asked': 1681, 'streaming': 1682, 'bound': 1683, 'encounter': 1684, 'l305d': 1685, 's5934': 1686, 'unusable': 1687, 'handles': 1688, 'processors': 1689, 'comfortable': 1690, 'edges': 1691, 'hurt': 1692, 'wrists': 1693, 'ha': 1694, 'chrismas': 1695, 'expensve': 1696, 'm60': 1697, 'harman': 1698, 'kardon': 1699, 'december': 1700, 'joy': 1701, 'freelance': 1702, 'compuer': 1703, 'esay': 1704, 'fall': 1705, 'series': 1706, 'devised': 1707, 'researching': 1708, 'brands': 1709, 'prices': 1710, 'emachines': 1711, 'january': 1712, 'highly\\xa0dissatisfied': 1713, 'peice': 1714, 'machinery': 1715, 'outside': 1716, 'iphone': 1717, 'wpm': 1718, 'comfortble': 1719, 'sticking': 1720, 'lagging': 1721, 'strange': 1722, 'configuration': 1723, 'lame': 1724, 'heated': 1725, 'responding': 1726, 'pleasantly': 1727, 'bindings': 1728, 'allows': 1729, 'fail': 1730, 'abilitiy': 1731, 'beginners': 1732, 'household': 1733, 'huge': 1734, 'tired': 1735, 'anti': 1736, 'august': 1737, 'shiny': 1738, 'hewlett': 1739, 'packard': 1740, 'man': 1741, 'feb': 1742, '201': 1743, 'smartest': 1744, 'compare': 1745, 'frustration': 1746, 'friends': 1747, 'enemies': 1748, 'absolute': 1749, 'dv4': 1750, '1222nr': 1751, '07': 1752, 'meant': 1753, 'nb205': 1754, 'accident': 1755, 'burners': 1756, 'desired': 1757, \"today's\": 1758, 'fighting': 1759, 'marketshare': 1760, 'shame': 1761, 'inept': 1762, 'staff': 1763, 'answering': 1764, 'thephone': 1765, 'z0j80001': 1766, 'integral': 1767, 'completing': 1768, 'social': 1769, 'networking': 1770, 'thinks': 1771, 'overpriced': 1772, 'overrated': 1773, 'initial': 1774, 'expense': 1775, 'penny': 1776, 'financing': 1777, 'nv78': 1778, '09': 1779, 'lid': 1780, 'easiest': 1781, 'click': 1782, 'decently': 1783, 'printer': 1784, 'strengths': 1785, 'shaped': 1786, 'hateful': 1787, 'choice': 1788, 'g60': 1789, '244dx': 1790, 'recycled': 1791, '600': 1792, 'saturday': 1793, 'doubt': 1794, 'goodies': 1795, 'inside': 1796, 'regretted': 1797, 'sits': 1798, 'jar': 1799, 'motherboard': 1800, 'initially': 1801, 'april': 1802, 'specs': 1803, 'latitude': 1804, 'd620': 1805, 'dv9000': 1806, 'rocked': 1807, 'sites': 1808, 'amazingly': 1809, 'boots': 1810, 'ssd': 1811, 'mobility': 1812, 'benchmark': 1813, 'accordingly': 1814, 'complains': 1815, 'cared': 1816, 'advise': 1817, 'prospective': 1818, 'buyers': 1819, 'cent': 1820, 'serious': 1821, 'realize': 1822, 'disc': 1823, 'beautifully': 1824, 'math': 1825, 'introduction': 1826, 'hope': 1827, 'discontinued': 1828, 'future': 1829, 'cds': 1830, 'accounts': 1831, 'fired': 1832, 'timed': 1833, 'anyway': 1834, 'connecting': 1835, 'bills': 1836, 'occasionally': 1837, 'reading': 1838, 'news': 1839, 'negative': 1840, 'wow': 1841, '249': 1842, 'forever': 1843, 'slowly': 1844, 'becoming': 1845, 'defenitly': 1846, 'usual': 1847, 'interface': 1848, 'superdrive': 1849, 'period': 1850, 'masterpiece': 1851, 'trackpad': 1852, 'grease': 1853, 'oil': 1854, 'manner': 1855, 'substances': 1856, 'types': 1857, 'usage': 1858, 'show': 1859, 'accessed': 1860, 'unrivaled': 1861, \"week's\": 1862, 'anticipate': 1863, 'experiences': 1864, 'air': 1865, 'opening': 1866, 'joke': 1867, 'causing': 1868, '7gz': 1869, '250': 1870, 'steps': 1871, 'w7': 1872, 'w8': 1873, 'frequently': 1874, 'range': 1875, 'layout': 1876, 'feeling': 1877, 'lick': 1878, 'experiencing': 1879, 'slower': 1880, 'presentation': 1881, 'setup': 1882, 'despite': 1883, 'optical': 1884, 'warriors': 1885, 'plays': 1886, 'tasks': 1887, 'inexpensive': 1888, 'touchscreen': 1889, 'material': 1890, 'backlight': 1891, 'widows': 1892, 'nurse': 1893, 'chart': 1894, 'rom': 1895, 'proper': 1896, 'maximum': 1897, 'dealing': 1898, 'ridiculous': 1899, 'painful': 1900, 'sellers': 1901, 'microphone': 1902, 'input': 1903, 'combo': 1904, 'reviewers': 1905, 'comments': 1906, 'nicest': 1907, \"we've\": 1908, '31': 1909, 'says': 1910, 'failing': 1911, 'neither': 1912, 'afford': 1913, 'opportunity': 1914, 'manufacturer': 1915, 'ofconnection': 1916, 'instructions': 1917, 'savvy': 1918, 'adaptors': 1919, 'birthday': 1920, 'transitional': 1921, 'jobs': 1922, 'university': 1923, '4590': 1924, 'gtx': 1925, '760': 1926, 'crazy': 1927, \"'a'\": 1928, 'became': 1929, 'jammed': 1930, \"wouldn't\": 1931, 'felt': 1932, 'slowwwwww': 1933, 'loyal': 1934, 'difficulty': 1935, 'print': 1936, 'wavered': 1937, 'ended': 1938, 'choosing': 1939, 'sorry': 1940, 'beeping': 1941, 'connectibility': 1942, 'slot': 1943, 'sd': 1944, 'hey': 1945, 'firstly': 1946, 'leds': 1947, 'cap': 1948, 'indicator': 1949, 'itunes': 1950, 'instruction': 1951, \"cd's\": 1952, 'disappoint': 1953, 'sony': 1954, 'couch': 1955, 'surf': 1956, 'offering': 1957, 'cons': 1958, 'hit': 1959, 'facial': 1960, 'recognition': 1961, 'advertises': 1962, 'locks': 1963, 'updates': 1964, 'known': 1965, 'fragile': 1966, 'spinning': 1967, 'below': 1968, 'bottom': 1969, 'linux': 1970, 'odd': 1971, 'unusual': 1972, 'commands': 1973, 'refund': 1974, 'account': 1975, 'mistake': 1976, 'ad': 1977, 'wonky': 1978, 'f': 1979, 'infrequently': 1980, \"what's\": 1981, 'readmy': 1982, 'kindle': 1983, 'avoid': 1984, 'profile': 1985, 'sibelius': 1986, 'half': 1987, 'age': 1988, 'necessity': 1989, 'rj': 1990, '45': 1991, 'wired': 1992, 'chance': 1993, 'habit': 1994, 'restarting': 1995, 'log': 1996, 'pw': 1997, 'youtube': 1998, 'hulu': 1999, 'primarily': 2000, 'outlook': 2001, 'inspiron': 2002, 'pecking': 2003, 'numbers': 2004, 'stock': 2005, 'wd': 2006, '7k': 2007, '60s': 2008, 'particularly': 2009, 'square': 2010, 'trade': 2011, 'pressured': 2012, 'medium': 2013, 'scale': 2014, 'increases': 2015, 'bootup': 2016, 'slim': 2017, 'form': 2018, 'mean': 2019, 'wise': 2020, 'celeron': 2021, 'champion': 2022, 'performer': 2023, 'router': 2024, 'cover': 2025, 'soft': 2026, 'rubber': 2027, 'texture': 2028, 'friction': 2029, 'adequate': 2030, 'concern': 2031, 'starts': 2032, 'length': 2033, 'communicate': 2034, 'ear': 2035, 'plugs': 2036, 'headset': 2037, 'close': 2038, 'cluttered': 2039, 'bunch': 2040, 'option': 2041, 'stream': 2042, 'prime': 2043, 'netflix': 2044, 'lag': 2045, 'seem': 2046, 'clunker': 2047, 'delivered': 2048, 'stubborn': 2049, 'hell': 2050, 'slipping': 2051, 'ground': 2052, 'phased': 2053, 'pin': 2054, 'unannounced': 2055, 'shattered': 2056, 'million': 2057, 'pieces': 2058, 'malwarebytes': 2059, 'essentials': 2060, 'scan': 2061, 'smoother': 2062, 'butter': 2063, 'hinges': 2064, 'tight': 2065, '20': 2066, 'claims': 2067, 'thousands': 2068, 'mechanical': 2069, 'strokes': 2070, 'unresponsive': 2071, 'successfully': 2072, 'window': 2073, 'closed': 2074, 'manual': 2075, 'damn': 2076, 'royal': 2077, 'pain': 2078, \"i'\": 2079, 'doi9ng': 2080, 'bug': 2081, 'craft': 2082, 'fault': 2083, 'reviews': 2084, 'positive': 2085, 'selling': 2086, 'f5': 2087, 'pricing': 2088, 'supported': 2089}\n"
     ]
    }
   ],
   "source": [
    "#Tokenization \n",
    "tokenizer = Tokenizer(num_words=2100, oov_token='<OOV>')\n",
    "tokenizer.fit_on_texts(train_sen)\n",
    "w_i = tokenizer.word_index\n",
    "print(w_i)"
   ]
  },
  {
   "cell_type": "markdown",
   "metadata": {},
   "source": [
    "## Save and Load Tokenizer"
   ]
  },
  {
   "cell_type": "code",
   "execution_count": null,
   "metadata": {},
   "outputs": [],
   "source": [
    "# saving tokenizer\n",
    "with open('tokenizer.pickle', 'wb') as handle:\n",
    "    pickle.dump(tokenizer, handle, protocol=pickle.HIGHEST_PROTOCOL)"
   ]
  },
  {
   "cell_type": "code",
   "execution_count": null,
   "metadata": {},
   "outputs": [],
   "source": [
    "# loading tokenizer\n",
    "with open('tokenizer.pickle', 'rb') as handle:\n",
    "    tokenizer = pickle.load(handle)"
   ]
  },
  {
   "cell_type": "markdown",
   "metadata": {},
   "source": [
    "## Save and Load Encoder for Aspect Categorization"
   ]
  },
  {
   "cell_type": "code",
   "execution_count": null,
   "metadata": {},
   "outputs": [],
   "source": [
    "# saving aspects encoder\n",
    "with open('aspects_encoder.pickle', 'wb') as handle:\n",
    "    pickle.dump(pre1, handle, protocol=pickle.HIGHEST_PROTOCOL)"
   ]
  },
  {
   "cell_type": "code",
   "execution_count": null,
   "metadata": {},
   "outputs": [],
   "source": [
    "# loading aspects encoder\n",
    "with open('aspects_encoder.pickle', 'rb') as handle:\n",
    "    aspects_encoder = pickle.load(handle)"
   ]
  },
  {
   "cell_type": "markdown",
   "metadata": {},
   "source": [
    "## Sequencing"
   ]
  },
  {
   "cell_type": "code",
   "execution_count": 6,
   "metadata": {},
   "outputs": [
    {
     "name": "stdout",
     "output_type": "stream",
     "text": [
      "[[1963, 41, 476, 945, 9, 1964], [24, 88, 29, 99, 11, 3, 63, 1535, 258, 15, 29, 99, 7, 400, 5, 51, 1521, 9, 11, 102, 31, 71, 45, 1965, 6, 42, 317, 1966], [21], [2, 357, 1536, 226, 478, 4, 7, 409, 590, 62, 467, 46, 68, 575, 15, 116, 7, 1967, 93, 94], [21], [3, 75, 25, 4, 388], [1968, 454, 22, 2, 421, 718, 752, 124, 111, 130, 302, 6, 61, 6, 2, 1969, 10], [128, 23, 49], [92, 186, 9, 12, 911], [2, 273, 224, 16, 11, 18, 66, 119], [21], [2, 539, 165, 8, 639], [8, 39, 160], [21], [1537, 57, 357, 1536], [21], [21], [21], [3, 512, 118, 671, 1970, 22, 4], [148], [54, 19, 89, 29, 802, 9], [21], [21], [21], [1971, 1972, 138, 1973], [21], [21], [2, 36, 836, 3, 300, 485, 4, 7, 183, 1538, 8, 3, 241, 3, 13, 6, 920, 28, 194, 6, 456, 22, 2, 210, 447], [38, 73, 9, 7, 38, 74], [21], [3, 344, 101, 99, 7, 17, 411, 933, 205, 931, 9, 584], [71, 145, 169, 6, 1528, 221, 434, 5, 870, 221, 1974, 107, 229, 221, 1975, 2, 349, 163], [71, 546, 4], [63, 19, 258], [98, 487, 6, 25, 6, 289, 77, 78, 187, 69, 455], [12, 1976, 18, 6, 19, 562, 11, 32, 50, 295, 5, 50, 599, 6, 1511, 12, 1977, 514, 6, 1532, 724], [39, 536], [88, 29, 45, 7, 843, 69, 105, 4, 9, 386, 17, 25, 61, 257, 537], [21], [2, 86, 8, 7, 115, 1978, 16, 218, 6, 25, 2, 1510, 781, 6, 61, 2, 1979, 433, 24, 16, 142, 1980, 3, 25, 866, 4, 8, 7, 927, 359], [1981, 92, 186], [75, 118, 1982, 1983, 22, 11, 17], [21], [452, 11, 17, 616, 16, 7, 629, 154, 86], [21], [21], [21], [1984, 484], [126, 154, 9, 35], [21], [54, 185, 5, 34, 6, 25, 249], [21], [21], [120, 23, 473, 14], [2, 37, 55, 8, 38, 118, 16, 223, 297, 1985, 133, 57, 1986, 119, 9, 7, 38, 1987, 10, 2, 163], [21], [21], [76, 12, 1988, 3, 105, 11, 366, 10, 14], [21], [21], [538, 595, 246, 342], [640, 7, 83, 14], [21], [21], [21], [19, 7, 1989, 24, 257, 87, 331, 6, 532], [2, 539, 51, 8, 544, 756, 5, 2, 306, 8, 2, 122, 306, 6, 751], [154, 8, 126, 5, 165, 8, 756], [2, 51, 8, 1513, 5, 845, 169, 663], [11, 14, 123, 19, 13, 82, 1990, 1991, 925, 752, 9, 1992, 496, 908], [21], [12, 943, 921, 11, 14, 283, 5, 451, 42, 58, 4, 5, 3, 325, 4, 18, 7, 38, 224, 5, 40, 4], [134, 8, 7, 1993, 329, 8, 378, 24, 907, 111, 19, 206, 6, 487, 155, 32, 11, 8, 7, 901, 73], [21], [21], [3, 80, 42, 1520, 4], [2, 240, 8, 884], [4, 123, 13, 7, 1994, 10, 1995, 445, 84, 29, 487, 6, 44, 2, 1996, 20, 1997, 24, 141, 33, 644, 23, 380], [3, 13, 120, 116, 4, 6, 601, 1998, 5, 1999], [21], [21], [3, 53, 223, 2000, 9, 322, 5, 2001, 204, 111, 22, 2, 1522], [21], [3, 300, 13, 15, 104, 164, 28, 3, 325, 1530, 485, 2, 2002, 7, 487], [3, 44, 7, 409, 10, 238, 210, 28, 3, 150, 42, 2003, 179, 76, 2, 178, 193, 9, 2004], [3, 244, 2005, 94, 16, 2006, 585, 2007, 94, 5, 8, 130, 317, 135], [3, 40, 4, 9, 12, 526, 1539, 2008, 5, 71, 47, 4, 2009, 2, 86, 5, 51], [18, 34, 6, 61, 41, 5, 611, 5, 616, 16, 66, 119, 68, 12, 674, 235, 131, 28, 194, 44, 19, 57, 66, 239], [3, 13, 2010, 2011, 9, 4, 39, 20, 400, 4, 890], [3, 63, 1535, 258, 11, 17, 4, 8, 92], [5, 323, 1537, 2012, 118, 249, 3, 274, 2013, 2014, 216, 950, 2, 158, 1515, 103, 2015], [21], [21], [21], [2, 51, 439, 8, 917, 448, 2, 313, 45, 160, 5, 2, 458, 151, 8, 34, 6, 25], [44, 19, 258], [2016, 64, 8, 160, 37, 55, 8, 932, 5, 4, 30, 7, 26, 2017, 2018, 904], [52, 62, 186, 9, 12, 25], [149, 84, 3, 199, 98, 532, 6, 289, 187, 22, 4, 3, 2019, 4], [176, 2020, 54, 7, 261, 135, 24, 931, 6, 42, 404, 60, 7, 2021, 805, 323], [3, 63, 401, 258, 11], [2, 240, 8, 26, 5, 54, 92], [21], [21], [72, 298, 6, 42, 611, 716], [21], [98, 532, 4, 6, 42, 7, 2022, 2023, 28, 88, 29, 171, 6, 289, 187, 69, 938, 11, 8, 19, 2, 17, 9, 29], [29, 45, 251, 89, 29, 802, 9, 5, 20, 12, 712, 4, 8, 196, 52], [120, 430, 4, 27, 7, 279, 6, 593, 82, 180, 745, 229, 4, 96, 370, 12, 536, 2024, 1525, 6, 19, 79], [2, 2025, 8, 7, 2026, 2027, 2028, 207, 2, 2029], [2, 37, 298, 2030, 9, 167, 505, 265, 183, 363, 25, 282], [26, 240, 83, 175], [38, 37, 55, 31, 49], [3, 13, 440, 52, 62, 81, 183, 211, 22, 2, 310, 16, 190, 141, 265, 292, 900, 36, 6, 61, 50, 926], [12, 36, 2031, 8, 15, 108, 2, 37, 8, 19, 538, 3, 80, 19, 42, 184, 6, 326, 4, 70, 247, 4, 2032, 19, 6, 857, 7, 38, 282, 141, 7, 2033, 10, 64], [2, 214, 151, 356, 8, 23, 704, 124, 8, 732, 3, 493, 4, 887, 896], [12, 14, 18, 34, 6, 338, 41, 5, 87, 27, 50, 97, 6, 751], [21], [28, 6, 2034, 3, 105, 6, 874, 2035, 2036, 69, 7, 2037, 16, 7, 334, 20, 1526], [111, 7, 55, 106, 192, 17, 250, 5, 2, 86, 22, 11, 14, 8, 31, 2038, 6, 7, 880, 86, 31, 87, 101, 382], [32, 65, 172, 121, 58, 757, 112, 8, 15, 71, 45, 19, 2039, 16, 7, 2040, 69, 602, 133], [3, 65, 57, 2, 574, 2041, 22, 4, 3, 2042, 877, 22, 933, 2043, 5, 2044, 5, 134, 8, 50, 2045], [3, 39, 340, 6, 741, 4], [206, 6, 262, 89, 757, 123], [21], [21], [11, 32, 301, 2046, 6, 42, 2, 236, 83, 31, 902, 3, 13, 109, 213], [21], [21], [436, 87, 27, 4, 9, 309, 62, 7, 348, 3, 53, 23, 380], [21], [21], [110, 26, 165], [11, 2047, 356, 237, 156, 43, 36, 219, 233, 10, 218, 4, 2048], [4, 395, 7, 106, 64, 6, 871, 77, 524], [4, 18, 2049, 31, 2050, 50, 852, 10, 754, 69, 2051, 6, 2, 2052, 2053, 4], [20, 219, 85, 201, 2, 132, 745, 2054, 368, 2, 435, 244, 4, 5, 90, 2, 381, 94, 1517, 915, 70, 10, 2, 14, 2055, 5, 2056, 229, 7, 2057, 2058], [21], [356, 11, 14, 194, 488, 12, 641, 84, 3, 40, 4, 9, 256, 3, 36, 25, 2059, 5, 511, 869, 2060, 274, 7, 963, 2061, 384, 247, 7, 348, 5, 4, 30, 879, 2062, 62, 2063, 9, 2, 353, 219, 117], [21], [21], [21], [50, 105, 6], [2, 2064, 22, 11, 78, 45, 172, 5, 2065, 5, 49, 195, 57, 2, 651, 10, 2, 78], [4, 197, 291, 2066, 603, 6, 645, 41], [23, 838], [138, 2067, 71, 1512, 919, 210, 16, 2068, 10, 2069, 210, 2070], [2, 632, 168, 3, 13, 8, 2, 162, 321, 5, 178, 10, 2, 306, 8, 2071], [24, 149, 3, 53, 218, 37, 97], [2, 14, 8, 92], [4, 30, 95, 35, 241, 57, 6, 191, 117, 6, 2072, 215, 7, 188, 524], [24, 227, 863, 85, 12, 138, 17, 605], [620, 317, 1529, 70, 142, 6, 181, 2, 903, 154, 1534, 212], [5, 10, 648, 2, 434, 2073, 2074, 259, 348, 28, 149, 111, 898, 16, 4], [2, 86, 5, 240, 45, 26, 5, 2, 1524, 51, 128, 49], [882, 41, 2, 2075, 22, 155, 17], [174, 7, 81, 330, 834, 9, 496, 593, 50, 168], [3, 1519, 2, 374, 15, 4, 290, 16, 66, 119, 24, 120, 596, 66, 239, 6, 671, 324, 88, 3, 105, 4], [24, 88, 29, 45, 39, 82, 454, 250, 4, 128, 65, 26], [806, 32, 185, 6, 377, 29, 343, 88, 2, 2076, 121, 8, 22], [138, 271, 18, 480, 6, 224, 16], [235, 7, 927, 266, 51, 22, 11, 131, 8, 7, 2077, 2078], [209], [539, 51, 357, 275, 83, 281, 92, 323, 5, 2, 922, 10, 2, 113, 490], [2079, 2080, 252, 149, 5, 159, 31, 7, 2081], [465, 505, 6, 289, 329, 2082, 5, 231, 79], [3, 98, 57, 66, 239, 24, 15, 8, 50, 2083, 10, 2, 17, 24, 2, 86, 8, 28, 93, 6, 61, 2, 433, 6, 79, 5, 2, 486, 837], [2, 2084, 76, 2, 64, 20, 1539, 861, 1533, 145, 479, 2085, 5, 4, 18, 2, 122, 2086, 14, 16, 291, 265, 1538, 850], [2, 86, 8, 835, 24, 29, 13, 6, 1531, 2, 2087, 210, 6, 519, 4, 22], [933, 27, 2, 122, 2088, 5, 2, 402, 18, 22, 64], [66, 239, 8, 19, 2089, 125, 7, 409, 10, 263], [74, 8, 26, 430, 4, 300, 13, 66, 239, 24, 15, 8, 82, 712], [21]]\n"
     ]
    }
   ],
   "source": [
    "#Sequencing \n",
    "seq_train = tokenizer.texts_to_sequences(train_sen)\n",
    "seq_test = tokenizer.texts_to_sequences(test_sen)\n",
    "print(seq_test)"
   ]
  },
  {
   "cell_type": "markdown",
   "metadata": {},
   "source": [
    "## Padding"
   ]
  },
  {
   "cell_type": "code",
   "execution_count": 7,
   "metadata": {},
   "outputs": [
    {
     "name": "stdout",
     "output_type": "stream",
     "text": [
      "[[1963   41  476 ...    0    0    0]\n",
      " [  24   88   29 ...    0    0    0]\n",
      " [  21    0    0 ...    0    0    0]\n",
      " ...\n",
      " [  66  239    8 ...    0    0    0]\n",
      " [  74    8   26 ...    0    0    0]\n",
      " [  21    0    0 ...    0    0    0]]\n"
     ]
    }
   ],
   "source": [
    "#Padding\n",
    "pad_train = pad_sequences(seq_train, padding='post',maxlen=100)\n",
    "pad_test = pad_sequences(seq_test, padding='post',maxlen=100)\n",
    "print(pad_test)"
   ]
  },
  {
   "cell_type": "markdown",
   "metadata": {},
   "source": [
    "## Sentiment Labels"
   ]
  },
  {
   "cell_type": "code",
   "execution_count": 8,
   "metadata": {},
   "outputs": [
    {
     "data": {
      "text/plain": [
       "array([1, 1, 0, 0, 0, 3, 1, 3, 3, 3, 0, 3, 3, 0, 3, 0, 0, 0, 1, 3, 1, 0,\n",
       "       0, 0, 1, 0, 0, 3, 3, 0, 0, 3, 3, 1, 1, 1, 1, 1, 0, 1, 0, 3, 0, 3,\n",
       "       0, 0, 0, 1, 3, 0, 3, 0, 0, 3, 3, 0, 0, 3, 0, 0, 3, 3, 0, 0, 0, 1,\n",
       "       3, 3, 3, 1, 0, 0, 1, 0, 0, 1, 1, 1, 0, 0, 0, 0, 0, 0, 0, 1, 3, 0,\n",
       "       0, 3, 1, 0, 0, 0, 3, 1, 3, 3, 1, 1, 3, 3, 0, 0, 3, 0, 2, 3, 1, 3,\n",
       "       3, 3, 3, 1, 1, 1, 3, 0, 1, 3, 3, 3, 0, 0, 0, 0, 0, 0, 0, 3, 0, 0,\n",
       "       3, 1, 1, 0, 1, 0, 3, 0, 0, 0, 0, 3, 1, 0, 1, 1, 1, 3, 1, 0, 2, 1,\n",
       "       3, 0, 2, 3, 3, 1, 1, 1, 0, 3, 3, 0, 1, 0, 3, 0, 1, 3, 0])"
      ]
     },
     "execution_count": 8,
     "metadata": {},
     "output_type": "execute_result"
    }
   ],
   "source": [
    "#Sentiment Labels\n",
    "lab_train1 = data.iloc[:,2]\n",
    "lab_train2 = data.iloc[:,5]\n",
    "lab_train3 = data.iloc[:,8]\n",
    "lab_train4 = data1.iloc[:,4]\n",
    "lab_train5 = data1.iloc[:,8]\n",
    "lab_train = lab_train1.append(lab_train2)\n",
    "lab_train = lab_train.append(lab_train3)\n",
    "lab_train = lab_train.append(lab_train4)\n",
    "lab_train = lab_train.append(lab_train5)\n",
    "lab_test = test.iloc[:,12]\n",
    "labs = lab_train.append(lab_test)\n",
    "lab_train = lab_train.astype(str)\n",
    "lab_test = lab_test.astype(str)\n",
    "labs = labs.astype(str)\n",
    "pre2 = preprocessing.LabelEncoder()\n",
    "labs = pre2.fit_transform(labs)\n",
    "labs_train = labs[:1731]\n",
    "labs_test = labs[1731:]\n",
    "labs_train = np.asarray(labs_train)\n",
    "labs_test = np.asarray(labs_test)\n",
    "labs_test"
   ]
  },
  {
   "cell_type": "markdown",
   "metadata": {},
   "source": [
    "## Save and Load Encoder for Sentiment Classification"
   ]
  },
  {
   "cell_type": "code",
   "execution_count": null,
   "metadata": {},
   "outputs": [],
   "source": [
    "# saving sentiments encoder\n",
    "with open('sentiments_encoder.pickle', 'wb') as handle:\n",
    "    pickle.dump(pre2, handle, protocol=pickle.HIGHEST_PROTOCOL)"
   ]
  },
  {
   "cell_type": "code",
   "execution_count": null,
   "metadata": {},
   "outputs": [],
   "source": [
    "# loading aspects encoder\n",
    "with open('sentiments_encoder.pickle', 'rb') as handle:\n",
    "    sentiments_encoder = pickle.load(handle)"
   ]
  },
  {
   "cell_type": "markdown",
   "metadata": {},
   "source": [
    "## Model for Aspect Categorization"
   ]
  },
  {
   "cell_type": "code",
   "execution_count": 26,
   "metadata": {},
   "outputs": [
    {
     "name": "stdout",
     "output_type": "stream",
     "text": [
      "Model: \"sequential_8\"\n",
      "_________________________________________________________________\n",
      "Layer (type)                 Output Shape              Param #   \n",
      "=================================================================\n",
      "embedding_8 (Embedding)      (None, 100, 24)           50400     \n",
      "_________________________________________________________________\n",
      "bidirectional_16 (Bidirectio (None, 100, 48)           7200      \n",
      "_________________________________________________________________\n",
      "bidirectional_17 (Bidirectio (None, 24)                4464      \n",
      "_________________________________________________________________\n",
      "dense_16 (Dense)             (None, 6)                 150       \n",
      "_________________________________________________________________\n",
      "dense_17 (Dense)             (None, 61)                427       \n",
      "=================================================================\n",
      "Total params: 62,641\n",
      "Trainable params: 62,641\n",
      "Non-trainable params: 0\n",
      "_________________________________________________________________\n"
     ]
    }
   ],
   "source": [
    "\n",
    "#Model1 for Aspect Categorization - GRU\n",
    "model1 = tf.keras.Sequential([\n",
    "    tf.keras.layers.Embedding(2100,24, input_length=100),\n",
    "    tf.keras.layers.Bidirectional(tf.keras.layers.GRU(24,return_sequences=True)),\n",
    "    tf.keras.layers.Bidirectional(tf.keras.layers.GRU(12)),\n",
    "    tf.keras.layers.Dense(6,activation='relu'),\n",
    "    tf.keras.layers.Dense(61,activation='softmax')\n",
    "])\n",
    "model1.compile(loss='sparse_categorical_crossentropy',optimizer='adam',metrics=['accuracy'])\n",
    "model1.summary()"
   ]
  },
  {
   "cell_type": "markdown",
   "metadata": {},
   "source": [
    "## Model for Sentiment Classification"
   ]
  },
  {
   "cell_type": "code",
   "execution_count": 27,
   "metadata": {},
   "outputs": [
    {
     "name": "stdout",
     "output_type": "stream",
     "text": [
      "Model: \"sequential_9\"\n",
      "_________________________________________________________________\n",
      "Layer (type)                 Output Shape              Param #   \n",
      "=================================================================\n",
      "embedding_9 (Embedding)      (None, 100, 8)            16800     \n",
      "_________________________________________________________________\n",
      "bidirectional_18 (Bidirectio (None, 100, 16)           864       \n",
      "_________________________________________________________________\n",
      "bidirectional_19 (Bidirectio (None, 8)                 528       \n",
      "_________________________________________________________________\n",
      "dense_18 (Dense)             (None, 4)                 36        \n",
      "_________________________________________________________________\n",
      "dense_19 (Dense)             (None, 4)                 20        \n",
      "=================================================================\n",
      "Total params: 18,248\n",
      "Trainable params: 18,248\n",
      "Non-trainable params: 0\n",
      "_________________________________________________________________\n"
     ]
    }
   ],
   "source": [
    "#Model2 for Sentiment Classification - GRU\n",
    "model2 = tf.keras.Sequential([\n",
    "    tf.keras.layers.Embedding(2100,8, input_length=100),\n",
    "    tf.keras.layers.Bidirectional(tf.keras.layers.GRU(8,return_sequences=True)),\n",
    "    tf.keras.layers.Bidirectional(tf.keras.layers.GRU(4)),\n",
    "    tf.keras.layers.Dense(4,activation='relu'),\n",
    "    tf.keras.layers.Dense(4,activation='softmax')\n",
    "])\n",
    "model2.compile(loss='sparse_categorical_crossentropy',optimizer='adam',metrics=['accuracy'])\n",
    "model2.summary()"
   ]
  },
  {
   "cell_type": "markdown",
   "metadata": {},
   "source": [
    "## Train, Evaluate and Predict"
   ]
  },
  {
   "cell_type": "code",
   "execution_count": 28,
   "metadata": {},
   "outputs": [
    {
     "name": "stdout",
     "output_type": "stream",
     "text": [
      "Train on 1731 samples, validate on 173 samples\n",
      "Epoch 1/65\n",
      "1731/1731 [==============================] - 18s 10ms/sample - loss: 3.9257 - accuracy: 0.1594 - val_loss: 3.5231 - val_accuracy: 0.0983\n",
      "Epoch 2/65\n",
      "1731/1731 [==============================] - 7s 4ms/sample - loss: 3.2914 - accuracy: 0.1681 - val_loss: 2.6988 - val_accuracy: 0.0983\n",
      "Epoch 3/65\n",
      "1731/1731 [==============================] - 7s 4ms/sample - loss: 2.7897 - accuracy: 0.2640 - val_loss: 2.3044 - val_accuracy: 0.4162\n",
      "Epoch 4/65\n",
      "1731/1731 [==============================] - 7s 4ms/sample - loss: 2.5371 - accuracy: 0.2617 - val_loss: 2.1422 - val_accuracy: 0.4162\n",
      "Epoch 5/65\n",
      "1731/1731 [==============================] - 7s 4ms/sample - loss: 2.3384 - accuracy: 0.2860 - val_loss: 1.9650 - val_accuracy: 0.4566\n",
      "Epoch 6/65\n",
      "1731/1731 [==============================] - 8s 5ms/sample - loss: 2.1776 - accuracy: 0.3559 - val_loss: 1.8266 - val_accuracy: 0.5318\n",
      "Epoch 7/65\n",
      "1731/1731 [==============================] - 7s 4ms/sample - loss: 2.0670 - accuracy: 0.4171 - val_loss: 1.7312 - val_accuracy: 0.5954\n",
      "Epoch 8/65\n",
      "1731/1731 [==============================] - 7s 4ms/sample - loss: 1.9721 - accuracy: 0.4650 - val_loss: 1.6447 - val_accuracy: 0.6012\n",
      "Epoch 9/65\n",
      "1731/1731 [==============================] - 8s 5ms/sample - loss: 1.8629 - accuracy: 0.5136 - val_loss: 1.5727 - val_accuracy: 0.6301\n",
      "Epoch 10/65\n",
      "1731/1731 [==============================] - 7s 4ms/sample - loss: 1.7755 - accuracy: 0.5326 - val_loss: 1.5105 - val_accuracy: 0.6185\n",
      "Epoch 11/65\n",
      "1731/1731 [==============================] - 7s 4ms/sample - loss: 1.7034 - accuracy: 0.5465 - val_loss: 1.4443 - val_accuracy: 0.6474\n",
      "Epoch 12/65\n",
      "1731/1731 [==============================] - 7s 4ms/sample - loss: 1.6302 - accuracy: 0.5552 - val_loss: 1.3957 - val_accuracy: 0.6532\n",
      "Epoch 13/65\n",
      "1731/1731 [==============================] - 7s 4ms/sample - loss: 1.5666 - accuracy: 0.5644 - val_loss: 1.3735 - val_accuracy: 0.6532\n",
      "Epoch 14/65\n",
      "1731/1731 [==============================] - 7s 4ms/sample - loss: 1.5045 - accuracy: 0.5713 - val_loss: 1.3390 - val_accuracy: 0.6647\n",
      "Epoch 15/65\n",
      "1731/1731 [==============================] - 7s 4ms/sample - loss: 1.4529 - accuracy: 0.5898 - val_loss: 1.3229 - val_accuracy: 0.6590\n",
      "Epoch 16/65\n",
      "1731/1731 [==============================] - 7s 4ms/sample - loss: 1.4050 - accuracy: 0.5933 - val_loss: 1.2671 - val_accuracy: 0.6763\n",
      "Epoch 17/65\n",
      "1731/1731 [==============================] - 7s 4ms/sample - loss: 1.3574 - accuracy: 0.6054 - val_loss: 1.2877 - val_accuracy: 0.6821\n",
      "Epoch 18/65\n",
      "1731/1731 [==============================] - 7s 4ms/sample - loss: 1.3584 - accuracy: 0.6181 - val_loss: 1.2215 - val_accuracy: 0.6821\n",
      "Epoch 19/65\n",
      "1731/1731 [==============================] - 7s 4ms/sample - loss: 1.3122 - accuracy: 0.6303 - val_loss: 1.1870 - val_accuracy: 0.7052\n",
      "Epoch 20/65\n",
      "1731/1731 [==============================] - 7s 4ms/sample - loss: 1.2245 - accuracy: 0.6505 - val_loss: 1.1646 - val_accuracy: 0.7168\n",
      "Epoch 21/65\n",
      "1731/1731 [==============================] - 8s 5ms/sample - loss: 1.1568 - accuracy: 0.6811 - val_loss: 1.1123 - val_accuracy: 0.7341\n",
      "Epoch 22/65\n",
      "1731/1731 [==============================] - 7s 4ms/sample - loss: 1.1123 - accuracy: 0.6915 - val_loss: 1.1304 - val_accuracy: 0.7283\n",
      "Epoch 23/65\n",
      "1731/1731 [==============================] - 7s 4ms/sample - loss: 1.0649 - accuracy: 0.7036 - val_loss: 1.0811 - val_accuracy: 0.7457\n",
      "Epoch 24/65\n",
      "1731/1731 [==============================] - 7s 4ms/sample - loss: 1.0007 - accuracy: 0.7273 - val_loss: 1.0756 - val_accuracy: 0.7283\n",
      "Epoch 25/65\n",
      "1731/1731 [==============================] - 7s 4ms/sample - loss: 0.9506 - accuracy: 0.7314 - val_loss: 1.0340 - val_accuracy: 0.7572\n",
      "Epoch 26/65\n",
      "1731/1731 [==============================] - 7s 4ms/sample - loss: 0.9572 - accuracy: 0.7447 - val_loss: 1.0351 - val_accuracy: 0.7630\n",
      "Epoch 27/65\n",
      "1731/1731 [==============================] - 7s 4ms/sample - loss: 0.9130 - accuracy: 0.7452 - val_loss: 1.0028 - val_accuracy: 0.7457\n",
      "Epoch 28/65\n",
      "1731/1731 [==============================] - 7s 4ms/sample - loss: 0.8916 - accuracy: 0.7551 - val_loss: 0.9475 - val_accuracy: 0.7688\n",
      "Epoch 29/65\n",
      "1731/1731 [==============================] - 7s 4ms/sample - loss: 0.8229 - accuracy: 0.7799 - val_loss: 0.9171 - val_accuracy: 0.7803\n",
      "Epoch 30/65\n",
      "1731/1731 [==============================] - 7s 4ms/sample - loss: 0.7720 - accuracy: 0.7874 - val_loss: 0.8940 - val_accuracy: 0.7861\n",
      "Epoch 31/65\n",
      "1731/1731 [==============================] - 7s 4ms/sample - loss: 0.7394 - accuracy: 0.7995 - val_loss: 0.8921 - val_accuracy: 0.7977\n",
      "Epoch 32/65\n",
      "1731/1731 [==============================] - 7s 4ms/sample - loss: 0.7190 - accuracy: 0.8082 - val_loss: 0.9000 - val_accuracy: 0.7977\n",
      "Epoch 33/65\n",
      "1731/1731 [==============================] - 7s 4ms/sample - loss: 0.6969 - accuracy: 0.8146 - val_loss: 0.8504 - val_accuracy: 0.8208\n",
      "Epoch 34/65\n",
      "1731/1731 [==============================] - 7s 4ms/sample - loss: 0.6595 - accuracy: 0.8221 - val_loss: 0.8318 - val_accuracy: 0.8266\n",
      "Epoch 35/65\n",
      "1731/1731 [==============================] - 7s 4ms/sample - loss: 0.6366 - accuracy: 0.8284 - val_loss: 0.8135 - val_accuracy: 0.8382\n",
      "Epoch 36/65\n",
      "1731/1731 [==============================] - 8s 5ms/sample - loss: 0.6144 - accuracy: 0.8354 - val_loss: 0.8127 - val_accuracy: 0.8266\n",
      "Epoch 37/65\n",
      "1731/1731 [==============================] - 7s 4ms/sample - loss: 0.5939 - accuracy: 0.8411 - val_loss: 0.7940 - val_accuracy: 0.8439\n",
      "Epoch 38/65\n",
      "1731/1731 [==============================] - 7s 4ms/sample - loss: 0.5943 - accuracy: 0.8394 - val_loss: 0.8344 - val_accuracy: 0.8208\n",
      "Epoch 39/65\n",
      "1731/1731 [==============================] - 8s 4ms/sample - loss: 0.6117 - accuracy: 0.8278 - val_loss: 0.8046 - val_accuracy: 0.8439\n",
      "Epoch 40/65\n",
      "1731/1731 [==============================] - 7s 4ms/sample - loss: 0.5762 - accuracy: 0.8463 - val_loss: 0.8055 - val_accuracy: 0.8382\n",
      "Epoch 41/65\n",
      "1731/1731 [==============================] - 7s 4ms/sample - loss: 0.5451 - accuracy: 0.8510 - val_loss: 0.7790 - val_accuracy: 0.8497\n",
      "Epoch 42/65\n",
      "1731/1731 [==============================] - 7s 4ms/sample - loss: 0.5206 - accuracy: 0.8567 - val_loss: 0.7728 - val_accuracy: 0.8497\n",
      "Epoch 43/65\n",
      "1731/1731 [==============================] - 7s 4ms/sample - loss: 0.4968 - accuracy: 0.8694 - val_loss: 0.7685 - val_accuracy: 0.8613\n",
      "Epoch 44/65\n",
      "1731/1731 [==============================] - 7s 4ms/sample - loss: 0.4841 - accuracy: 0.8729 - val_loss: 0.7564 - val_accuracy: 0.8671\n",
      "Epoch 45/65\n",
      "1731/1731 [==============================] - 7s 4ms/sample - loss: 0.4592 - accuracy: 0.8821 - val_loss: 0.7207 - val_accuracy: 0.8728\n",
      "Epoch 46/65\n",
      "1731/1731 [==============================] - 8s 4ms/sample - loss: 0.4431 - accuracy: 0.8879 - val_loss: 0.7689 - val_accuracy: 0.8844\n",
      "Epoch 47/65\n",
      "1731/1731 [==============================] - 8s 4ms/sample - loss: 0.4356 - accuracy: 0.8891 - val_loss: 0.7230 - val_accuracy: 0.8844\n",
      "Epoch 48/65\n",
      "1731/1731 [==============================] - 7s 4ms/sample - loss: 0.6830 - accuracy: 0.8169 - val_loss: 0.8246 - val_accuracy: 0.8728\n",
      "Epoch 49/65\n",
      "1731/1731 [==============================] - 7s 4ms/sample - loss: 0.5567 - accuracy: 0.8515 - val_loss: 0.7877 - val_accuracy: 0.8728\n",
      "Epoch 50/65\n",
      "1731/1731 [==============================] - 7s 4ms/sample - loss: 0.4746 - accuracy: 0.8723 - val_loss: 0.7690 - val_accuracy: 0.8902\n",
      "Epoch 51/65\n",
      "1731/1731 [==============================] - 8s 4ms/sample - loss: 0.4385 - accuracy: 0.8920 - val_loss: 0.7364 - val_accuracy: 0.9017\n",
      "Epoch 52/65\n",
      "1731/1731 [==============================] - 7s 4ms/sample - loss: 0.4072 - accuracy: 0.8995 - val_loss: 0.7179 - val_accuracy: 0.9133\n",
      "Epoch 53/65\n",
      "1731/1731 [==============================] - 8s 4ms/sample - loss: 0.3839 - accuracy: 0.9099 - val_loss: 0.7055 - val_accuracy: 0.9133\n",
      "Epoch 54/65\n",
      "1731/1731 [==============================] - 8s 4ms/sample - loss: 0.3709 - accuracy: 0.9099 - val_loss: 0.7049 - val_accuracy: 0.9191\n",
      "Epoch 55/65\n",
      "1731/1731 [==============================] - 7s 4ms/sample - loss: 0.3613 - accuracy: 0.9116 - val_loss: 0.6989 - val_accuracy: 0.9191\n",
      "Epoch 56/65\n",
      "1731/1731 [==============================] - 7s 4ms/sample - loss: 0.3522 - accuracy: 0.9133 - val_loss: 0.7002 - val_accuracy: 0.9191\n",
      "Epoch 57/65\n",
      "1731/1731 [==============================] - 7s 4ms/sample - loss: 0.3462 - accuracy: 0.9162 - val_loss: 0.6925 - val_accuracy: 0.9191\n",
      "Epoch 58/65\n",
      "1731/1731 [==============================] - 7s 4ms/sample - loss: 0.3355 - accuracy: 0.9168 - val_loss: 0.6950 - val_accuracy: 0.9133\n",
      "Epoch 59/65\n",
      "1731/1731 [==============================] - 7s 4ms/sample - loss: 0.3290 - accuracy: 0.9191 - val_loss: 0.6883 - val_accuracy: 0.9191\n",
      "Epoch 60/65\n",
      "1731/1731 [==============================] - 7s 4ms/sample - loss: 0.3189 - accuracy: 0.9226 - val_loss: 0.6883 - val_accuracy: 0.9306\n",
      "Epoch 61/65\n",
      "1731/1731 [==============================] - 7s 4ms/sample - loss: 0.3132 - accuracy: 0.9209 - val_loss: 0.6870 - val_accuracy: 0.9249\n",
      "Epoch 62/65\n",
      "1731/1731 [==============================] - 7s 4ms/sample - loss: 0.3068 - accuracy: 0.9220 - val_loss: 0.6809 - val_accuracy: 0.9306\n",
      "Epoch 63/65\n",
      "1731/1731 [==============================] - 7s 4ms/sample - loss: 0.2976 - accuracy: 0.9249 - val_loss: 0.6764 - val_accuracy: 0.9306\n",
      "Epoch 64/65\n",
      "1731/1731 [==============================] - 7s 4ms/sample - loss: 0.2919 - accuracy: 0.9266 - val_loss: 0.6875 - val_accuracy: 0.9306\n",
      "Epoch 65/65\n",
      "1731/1731 [==============================] - 7s 4ms/sample - loss: 0.2868 - accuracy: 0.9295 - val_loss: 0.6804 - val_accuracy: 0.9306\n",
      "['LAPTOP#OPERATION_PERFORMANCE' 'LAPTOP#QUALITY' 'nan' 'nan' 'nan'\n",
      " 'LAPTOP#PORTABILITY' 'LAPTOP#CONNECTIVITY' 'LAPTOP#OPERATION_PERFORMANCE'\n",
      " 'LAPTOP#OPERATION_PERFORMANCE' 'LAPTOP#QUALITY' 'nan' 'DISPLAY#GENERAL'\n",
      " 'LAPTOP#GENERAL' 'nan' 'LAPTOP#QUALITY' 'nan' 'nan' 'nan'\n",
      " 'LAPTOP#USABILITY' 'LAPTOP#GENERAL' 'LAPTOP#GENERAL' 'nan' 'nan' 'nan'\n",
      " 'LAPTOP#MISCELLANEOUS' 'nan' 'nan' 'LAPTOP#GENERAL' 'LAPTOP#GENERAL'\n",
      " 'nan' 'nan' 'SUPPORT#QUALITY' 'LAPTOP#GENERAL' 'LAPTOP#GENERAL'\n",
      " 'LAPTOP#MISCELLANEOUS' 'LAPTOP#DESIGN_FEATURES' 'LAPTOP#CONNECTIVITY'\n",
      " 'LAPTOP#MISCELLANEOUS' 'nan' 'KEYBOARD#DESIGN_FEATURES' 'nan'\n",
      " 'LAPTOP#MISCELLANEOUS' 'nan' 'KEYBOARD#DESIGN_FEATURES' 'nan' 'nan' 'nan'\n",
      " 'COMPANY#GENERAL' 'LAPTOP#DESIGN_FEATURES' 'nan' 'LAPTOP#DESIGN_FEATURES'\n",
      " 'nan' 'nan' 'LAPTOP#OPERATION_PERFORMANCE'\n",
      " 'BATTERY#OPERATION_PERFORMANCE' 'nan' 'nan' 'LAPTOP#GENERAL' 'nan' 'nan'\n",
      " 'LAPTOP#CONNECTIVITY' 'LAPTOP#QUALITY' 'nan' 'nan' 'nan'\n",
      " 'LAPTOP#DESIGN_FEATURES' 'DISPLAY#GENERAL' 'LAPTOP#DESIGN_FEATURES'\n",
      " 'DISPLAY#DESIGN_FEATURES' 'LAPTOP#DESIGN_FEATURES' 'nan' 'nan'\n",
      " 'LAPTOP#GENERAL' 'nan' 'nan' 'LAPTOP#GENERAL'\n",
      " 'MULTIMEDIA_DEVICES#QUALITY' 'LAPTOP#OPERATION_PERFORMANCE' 'nan' 'nan'\n",
      " 'nan' 'nan' 'nan' 'nan' 'nan' 'LAPTOP#OPERATION_PERFORMANCE'\n",
      " 'LAPTOP#GENERAL' 'nan' 'nan' 'LAPTOP#GENERAL' 'GRAPHICS#GENERAL' 'nan'\n",
      " 'nan' 'nan' 'DISPLAY#QUALITY' 'LAPTOP#GENERAL'\n",
      " 'LAPTOP#OPERATION_PERFORMANCE' 'LAPTOP#GENERAL' 'LAPTOP#MISCELLANEOUS'\n",
      " 'LAPTOP#OPERATION_PERFORMANCE' 'LAPTOP#GENERAL'\n",
      " 'MULTIMEDIA_DEVICES#QUALITY' 'nan' 'nan' 'LAPTOP#OPERATION_PERFORMANCE'\n",
      " 'nan' 'LAPTOP#OPERATION_PERFORMANCE' 'LAPTOP#GENERAL'\n",
      " 'LAPTOP#DESIGN_FEATURES' 'LAPTOP#QUALITY' 'BATTERY#OPERATION_PERFORMANCE'\n",
      " 'MULTIMEDIA_DEVICES#QUALITY' 'BATTERY#OPERATION_PERFORMANCE'\n",
      " 'SUPPORT#QUALITY' 'LAPTOP#DESIGN_FEATURES' 'MEMORY#DESIGN_FEATURES'\n",
      " 'LAPTOP#USABILITY' 'nan' 'LAPTOP#USABILITY' 'MOUSE#OPERATION_PERFORMANCE'\n",
      " 'LAPTOP#DESIGN_FEATURES' 'LAPTOP#DESIGN_FEATURES' 'nan' 'nan' 'nan' 'nan'\n",
      " 'nan' 'nan' 'nan' 'LAPTOP#GENERAL' 'nan' 'nan' 'DISPLAY#GENERAL'\n",
      " 'LAPTOP#OPERATION_PERFORMANCE' 'LAPTOP#OPERATION_PERFORMANCE' 'nan'\n",
      " 'POWER_SUPPLY#QUALITY' 'nan' 'LAPTOP#MISCELLANEOUS' 'nan' 'nan' 'nan'\n",
      " 'nan' 'LAPTOP#QUALITY' 'LAPTOP#OPERATION_PERFORMANCE' 'nan'\n",
      " 'COMPANY#GENERAL' 'MOUSE#OPERATION_PERFORMANCE'\n",
      " 'BATTERY#OPERATION_PERFORMANCE' 'LAPTOP#OPERATION_PERFORMANCE'\n",
      " 'LAPTOP#OPERATION_PERFORMANCE' 'nan' 'MULTIMEDIA_DEVICES#QUALITY'\n",
      " 'LAPTOP#GENERAL' 'KEYBOARD#DESIGN_FEATURES' 'nan' 'LAPTOP#CONNECTIVITY'\n",
      " 'OS#GENERAL' 'LAPTOP#MISCELLANEOUS' 'LAPTOP#DESIGN_FEATURES'\n",
      " 'SUPPORT#QUALITY' 'OS#USABILITY' 'nan' 'SUPPORT#QUALITY' 'LAPTOP#GENERAL'\n",
      " 'nan' 'OS#GENERAL' 'nan' 'KEYBOARD#DESIGN_FEATURES' 'nan' 'OS#USABILITY'\n",
      " 'LAPTOP#PRICE' 'nan']\n",
      "['LAPTOP#OPERATION_PERFORMANCE' 'LAPTOP#QUALITY' 'nan' 'nan' 'nan'\n",
      " 'LAPTOP#PORTABILITY' 'LAPTOP#CONNECTIVITY' 'LAPTOP#OPERATION_PERFORMANCE'\n",
      " 'LAPTOP#OPERATION_PERFORMANCE' 'OS#GENERAL' 'nan' 'DISPLAY#GENERAL'\n",
      " 'LAPTOP#GENERAL' 'nan' 'LAPTOP#QUALITY' 'nan' 'nan' 'nan'\n",
      " 'LAPTOP#USABILITY' 'LAPTOP#GENERAL' 'LAPTOP#GENERAL' 'nan' 'nan' 'nan'\n",
      " 'LAPTOP#MISCELLANEOUS' 'nan' 'nan' 'LAPTOP#GENERAL' 'LAPTOP#GENERAL'\n",
      " 'nan' 'nan' 'SUPPORT#QUALITY' 'LAPTOP#GENERAL' 'LAPTOP#GENERAL'\n",
      " 'LAPTOP#MISCELLANEOUS' 'LAPTOP#DESIGN_FEATURES' 'LAPTOP#CONNECTIVITY'\n",
      " 'LAPTOP#MISCELLANEOUS' 'nan' 'KEYBOARD#DESIGN_FEATURES' 'nan'\n",
      " 'LAPTOP#MISCELLANEOUS' 'nan' 'KEYBOARD#DESIGN_FEATURES' 'nan' 'nan' 'nan'\n",
      " 'COMPANY#GENERAL' 'LAPTOP#DESIGN_FEATURES' 'nan' 'LAPTOP#DESIGN_FEATURES'\n",
      " 'nan' 'nan' 'LAPTOP#OPERATION_PERFORMANCE'\n",
      " 'BATTERY#OPERATION_PERFORMANCE' 'nan' 'nan' 'LAPTOP#MISCELLANEOUS' 'nan'\n",
      " 'nan' 'LAPTOP#CONNECTIVITY' 'LAPTOP#QUALITY' 'nan' 'nan' 'nan'\n",
      " 'LAPTOP#DESIGN_FEATURES' 'DISPLAY#GENERAL' 'LAPTOP#DESIGN_FEATURES'\n",
      " 'DISPLAY#DESIGN_FEATURES' 'LAPTOP#DESIGN_FEATURES' 'nan' 'nan'\n",
      " 'LAPTOP#GENERAL' 'nan' 'nan' 'LAPTOP#GENERAL'\n",
      " 'MULTIMEDIA_DEVICES#QUALITY' 'LAPTOP#OPERATION_PERFORMANCE' 'nan' 'nan'\n",
      " 'nan' 'nan' 'nan' 'nan' 'nan' 'LAPTOP#OPERATION_PERFORMANCE'\n",
      " 'LAPTOP#GENERAL' 'nan' 'nan' 'LAPTOP#GENERAL' 'CPU#OPERATION_PERFORMANCE'\n",
      " 'nan' 'nan' 'nan' 'DISPLAY#QUALITY' 'LAPTOP#GENERAL'\n",
      " 'LAPTOP#OPERATION_PERFORMANCE' 'LAPTOP#MISCELLANEOUS'\n",
      " 'LAPTOP#MISCELLANEOUS' 'LAPTOP#OPERATION_PERFORMANCE' 'LAPTOP#GENERAL'\n",
      " 'MULTIMEDIA_DEVICES#QUALITY' 'nan' 'nan' 'LAPTOP#OPERATION_PERFORMANCE'\n",
      " 'nan' 'LAPTOP#OPERATION_PERFORMANCE' 'LAPTOP#GENERAL'\n",
      " 'LAPTOP#DESIGN_FEATURES' 'LAPTOP#QUALITY' 'BATTERY#OPERATION_PERFORMANCE'\n",
      " 'MULTIMEDIA_DEVICES#QUALITY' 'BATTERY#OPERATION_PERFORMANCE'\n",
      " 'SUPPORT#QUALITY' 'BATTERY#DESIGN_FEATURES' 'MOUSE#QUALITY'\n",
      " 'LAPTOP#USABILITY' 'nan' 'LAPTOP#USABILITY' 'KEYBOARD#GENERAL'\n",
      " 'LAPTOP#DESIGN_FEATURES' 'LAPTOP#DESIGN_FEATURES' 'nan' 'nan' 'nan' 'nan'\n",
      " 'nan' 'nan' 'nan' 'LAPTOP#GENERAL' 'nan' 'nan' 'DISPLAY#GENERAL'\n",
      " 'LAPTOP#OPERATION_PERFORMANCE' 'LAPTOP#OPERATION_PERFORMANCE' 'nan'\n",
      " 'POWER_SUPPLY#QUALITY' 'nan' 'LAPTOP#MISCELLANEOUS' 'nan' 'nan' 'nan'\n",
      " 'nan' 'LAPTOP#QUALITY' 'LAPTOP#OPERATION_PERFORMANCE' 'nan'\n",
      " 'COMPANY#GENERAL' 'MOUSE#OPERATION_PERFORMANCE' 'BATTERY#GENERAL'\n",
      " 'LAPTOP#OPERATION_PERFORMANCE' 'LAPTOP#OPERATION_PERFORMANCE' 'nan'\n",
      " 'LAPTOP#USABILITY' 'LAPTOP#GENERAL' 'KEYBOARD#GENERAL' 'nan'\n",
      " 'LAPTOP#CONNECTIVITY' 'OS#GENERAL' 'LAPTOP#MISCELLANEOUS'\n",
      " 'LAPTOP#DESIGN_FEATURES' 'SUPPORT#GENERAL' 'OS#USABILITY' 'nan'\n",
      " 'DISPLAY#QUALITY' 'LAPTOP#GENERAL' 'nan' 'OS#GENERAL' 'nan'\n",
      " 'KEYBOARD#DESIGN_FEATURES' 'nan' 'OS#USABILITY' 'LAPTOP#PRICE' 'nan']\n"
     ]
    }
   ],
   "source": [
    "#Training and Prediction of Model1\n",
    "epoch1 = 65\n",
    "history1 = model1.fit(pad_train, aspects_train, epochs=epoch1, validation_data=(pad_test,aspects_test))\n",
    "pred1 = model1.predict(pad_test)\n",
    "aspects_pred = pred1.argmax(axis=-1)\n",
    "print(pre1.inverse_transform(aspects_pred))\n",
    "print(pre1.inverse_transform(aspects_test))"
   ]
  },
  {
   "cell_type": "code",
   "execution_count": 29,
   "metadata": {},
   "outputs": [
    {
     "name": "stdout",
     "output_type": "stream",
     "text": [
      "Train on 1731 samples, validate on 173 samples\n",
      "Epoch 1/20\n",
      "1731/1731 [==============================] - 30s 17ms/sample - loss: 1.3593 - accuracy: 0.2577 - val_loss: 1.2882 - val_accuracy: 0.6185\n",
      "Epoch 2/20\n",
      "1731/1731 [==============================] - 7s 4ms/sample - loss: 1.2570 - accuracy: 0.5211 - val_loss: 1.0967 - val_accuracy: 0.6127\n",
      "Epoch 3/20\n",
      "1731/1731 [==============================] - 6s 4ms/sample - loss: 1.1217 - accuracy: 0.5453 - val_loss: 0.9420 - val_accuracy: 0.6590\n",
      "Epoch 4/20\n",
      "1731/1731 [==============================] - 7s 4ms/sample - loss: 0.9911 - accuracy: 0.5956 - val_loss: 0.7928 - val_accuracy: 0.6821\n",
      "Epoch 5/20\n",
      "1731/1731 [==============================] - 7s 4ms/sample - loss: 0.8486 - accuracy: 0.6314 - val_loss: 0.6698 - val_accuracy: 0.7052\n",
      "Epoch 6/20\n",
      "1731/1731 [==============================] - 7s 4ms/sample - loss: 0.6992 - accuracy: 0.7510 - val_loss: 0.5706 - val_accuracy: 0.8266\n",
      "Epoch 7/20\n",
      "1731/1731 [==============================] - 7s 4ms/sample - loss: 0.5868 - accuracy: 0.8377 - val_loss: 0.4844 - val_accuracy: 0.8671\n",
      "Epoch 8/20\n",
      "1731/1731 [==============================] - 7s 4ms/sample - loss: 0.5002 - accuracy: 0.8873 - val_loss: 0.4490 - val_accuracy: 0.8786\n",
      "Epoch 9/20\n",
      "1731/1731 [==============================] - 7s 4ms/sample - loss: 0.4463 - accuracy: 0.8954 - val_loss: 0.3471 - val_accuracy: 0.9422\n",
      "Epoch 10/20\n",
      "1731/1731 [==============================] - 7s 4ms/sample - loss: 0.3958 - accuracy: 0.9070 - val_loss: 0.3094 - val_accuracy: 0.9422\n",
      "Epoch 11/20\n",
      "1731/1731 [==============================] - 7s 4ms/sample - loss: 0.3354 - accuracy: 0.9289 - val_loss: 0.2511 - val_accuracy: 0.9653\n",
      "Epoch 12/20\n",
      "1731/1731 [==============================] - 7s 4ms/sample - loss: 0.2873 - accuracy: 0.9393 - val_loss: 0.2166 - val_accuracy: 0.9769\n",
      "Epoch 13/20\n",
      "1731/1731 [==============================] - 7s 4ms/sample - loss: 0.2514 - accuracy: 0.9428 - val_loss: 0.1864 - val_accuracy: 0.9769\n",
      "Epoch 14/20\n",
      "1731/1731 [==============================] - 7s 4ms/sample - loss: 0.2206 - accuracy: 0.9492 - val_loss: 0.1557 - val_accuracy: 0.9769\n",
      "Epoch 15/20\n",
      "1731/1731 [==============================] - 7s 4ms/sample - loss: 0.1971 - accuracy: 0.9515 - val_loss: 0.1431 - val_accuracy: 0.9769\n",
      "Epoch 16/20\n",
      "1731/1731 [==============================] - 7s 4ms/sample - loss: 0.1773 - accuracy: 0.9515 - val_loss: 0.1220 - val_accuracy: 0.9769\n",
      "Epoch 17/20\n",
      "1731/1731 [==============================] - 7s 4ms/sample - loss: 0.1582 - accuracy: 0.9544 - val_loss: 0.1004 - val_accuracy: 0.9769\n",
      "Epoch 18/20\n",
      "1731/1731 [==============================] - 7s 4ms/sample - loss: 0.1383 - accuracy: 0.9561 - val_loss: 0.0930 - val_accuracy: 0.9827\n",
      "Epoch 19/20\n",
      "1731/1731 [==============================] - 7s 4ms/sample - loss: 0.1239 - accuracy: 0.9561 - val_loss: 0.0880 - val_accuracy: 0.9827\n",
      "Epoch 20/20\n",
      "1731/1731 [==============================] - 7s 4ms/sample - loss: 0.1157 - accuracy: 0.9561 - val_loss: 0.0733 - val_accuracy: 0.9827\n",
      "['negative' 'negative' 'nan' 'nan' 'nan' 'positive' 'negative' 'positive'\n",
      " 'positive' 'positive' 'nan' 'positive' 'positive' 'nan' 'positive' 'nan'\n",
      " 'nan' 'nan' 'negative' 'positive' 'negative' 'nan' 'nan' 'nan' 'negative'\n",
      " 'nan' 'nan' 'positive' 'positive' 'nan' 'nan' 'positive' 'positive'\n",
      " 'negative' 'negative' 'negative' 'negative' 'negative' 'nan' 'negative'\n",
      " 'nan' 'positive' 'nan' 'positive' 'nan' 'nan' 'nan' 'negative' 'positive'\n",
      " 'nan' 'positive' 'nan' 'nan' 'positive' 'positive' 'nan' 'nan' 'positive'\n",
      " 'nan' 'nan' 'positive' 'positive' 'nan' 'nan' 'nan' 'negative' 'positive'\n",
      " 'positive' 'positive' 'negative' 'nan' 'nan' 'negative' 'nan' 'nan'\n",
      " 'negative' 'negative' 'negative' 'nan' 'nan' 'nan' 'nan' 'nan' 'nan'\n",
      " 'nan' 'negative' 'positive' 'nan' 'nan' 'positive' 'negative' 'nan' 'nan'\n",
      " 'nan' 'positive' 'negative' 'positive' 'positive' 'negative' 'negative'\n",
      " 'positive' 'positive' 'nan' 'nan' 'positive' 'nan' 'negative' 'positive'\n",
      " 'negative' 'positive' 'positive' 'positive' 'positive' 'negative'\n",
      " 'negative' 'negative' 'positive' 'nan' 'negative' 'positive' 'positive'\n",
      " 'positive' 'nan' 'nan' 'nan' 'nan' 'nan' 'nan' 'nan' 'positive' 'nan'\n",
      " 'nan' 'positive' 'negative' 'negative' 'nan' 'negative' 'nan' 'positive'\n",
      " 'nan' 'nan' 'nan' 'nan' 'positive' 'negative' 'nan' 'negative' 'negative'\n",
      " 'negative' 'positive' 'negative' 'nan' 'negative' 'negative' 'positive'\n",
      " 'nan' 'positive' 'positive' 'positive' 'negative' 'negative' 'negative'\n",
      " 'nan' 'positive' 'positive' 'nan' 'negative' 'nan' 'positive' 'nan'\n",
      " 'negative' 'positive' 'nan']\n",
      "['negative' 'negative' 'nan' 'nan' 'nan' 'positive' 'negative' 'positive'\n",
      " 'positive' 'positive' 'nan' 'positive' 'positive' 'nan' 'positive' 'nan'\n",
      " 'nan' 'nan' 'negative' 'positive' 'negative' 'nan' 'nan' 'nan' 'negative'\n",
      " 'nan' 'nan' 'positive' 'positive' 'nan' 'nan' 'positive' 'positive'\n",
      " 'negative' 'negative' 'negative' 'negative' 'negative' 'nan' 'negative'\n",
      " 'nan' 'positive' 'nan' 'positive' 'nan' 'nan' 'nan' 'negative' 'positive'\n",
      " 'nan' 'positive' 'nan' 'nan' 'positive' 'positive' 'nan' 'nan' 'positive'\n",
      " 'nan' 'nan' 'positive' 'positive' 'nan' 'nan' 'nan' 'negative' 'positive'\n",
      " 'positive' 'positive' 'negative' 'nan' 'nan' 'negative' 'nan' 'nan'\n",
      " 'negative' 'negative' 'negative' 'nan' 'nan' 'nan' 'nan' 'nan' 'nan'\n",
      " 'nan' 'negative' 'positive' 'nan' 'nan' 'positive' 'negative' 'nan' 'nan'\n",
      " 'nan' 'positive' 'negative' 'positive' 'positive' 'negative' 'negative'\n",
      " 'positive' 'positive' 'nan' 'nan' 'positive' 'nan' 'neutral' 'positive'\n",
      " 'negative' 'positive' 'positive' 'positive' 'positive' 'negative'\n",
      " 'negative' 'negative' 'positive' 'nan' 'negative' 'positive' 'positive'\n",
      " 'positive' 'nan' 'nan' 'nan' 'nan' 'nan' 'nan' 'nan' 'positive' 'nan'\n",
      " 'nan' 'positive' 'negative' 'negative' 'nan' 'negative' 'nan' 'positive'\n",
      " 'nan' 'nan' 'nan' 'nan' 'positive' 'negative' 'nan' 'negative' 'negative'\n",
      " 'negative' 'positive' 'negative' 'nan' 'neutral' 'negative' 'positive'\n",
      " 'nan' 'neutral' 'positive' 'positive' 'negative' 'negative' 'negative'\n",
      " 'nan' 'positive' 'positive' 'nan' 'negative' 'nan' 'positive' 'nan'\n",
      " 'negative' 'positive' 'nan']\n"
     ]
    }
   ],
   "source": [
    "#Training and Prediction for Model2\n",
    "epoch2 = 20\n",
    "history2 = model2.fit(pad_train, labs_train, epochs=epoch2, validation_data=(pad_test,labs_test))\n",
    "pred2 = model2.predict(pad_test)\n",
    "labs_pred = pred2.argmax(axis=-1)\n",
    "print(pre2.inverse_transform(labs_pred))\n",
    "print(pre2.inverse_transform(labs_test))"
   ]
  },
  {
   "cell_type": "markdown",
   "metadata": {},
   "source": [
    "##  Save and Load Model Weights"
   ]
  },
  {
   "cell_type": "code",
   "execution_count": null,
   "metadata": {},
   "outputs": [],
   "source": [
    "# save both model weights\n",
    "model1.save_weights(\"Aspect_Categorizer_Weights_New\")\n",
    "model2.save_weights(\"Sentiment_Analyzer_Weights\")"
   ]
  },
  {
   "cell_type": "code",
   "execution_count": null,
   "metadata": {},
   "outputs": [],
   "source": [
    "# load both models weights\n",
    "model1.load_weights(\"Aspect_Categorizer_Weights\")\n",
    "model2.load_weights(\"Sentiment_Analyzer_Weights\")"
   ]
  },
  {
   "cell_type": "markdown",
   "metadata": {},
   "source": [
    "## Performance Visualization"
   ]
  },
  {
   "cell_type": "markdown",
   "metadata": {},
   "source": [
    "### Accuracy"
   ]
  },
  {
   "cell_type": "code",
   "execution_count": 30,
   "metadata": {},
   "outputs": [
    {
     "data": {
      "image/png": "[encoded data removed]",
      "text/plain": [
       "<Figure size 432x288 with 1 Axes>"
      ]
     },
     "metadata": {
      "needs_background": "light"
     },
     "output_type": "display_data"
    }
   ],
   "source": [
    "#Performance Visualization - Accuracy for Aspect Categorization \n",
    "def plot_graphs1(history1, string):\n",
    "  plt.plot(history1.history[string])\n",
    "  plt.plot(history1.history['val_'+string])\n",
    "  plt.xlabel(\"Epochs\")\n",
    "  plt.ylabel(string)\n",
    "  plt.legend([string, 'val_'+string])\n",
    "  plt.title('Aspect Detection Performance')\n",
    "  plt.show()\n",
    "\n",
    "plot_graphs1(history1, 'accuracy')"
   ]
  },
  {
   "cell_type": "code",
   "execution_count": 31,
   "metadata": {},
   "outputs": [
    {
     "data": {
      "image/png": "[encoded data removed]",
      "text/plain": [
       "<Figure size 432x288 with 1 Axes>"
      ]
     },
     "metadata": {
      "needs_background": "light"
     },
     "output_type": "display_data"
    }
   ],
   "source": [
    "#Performance Visualization - Accuracy for Sentiment Classification \n",
    "def plot_graphs2(history2, string):\n",
    "  plt.plot(history2.history[string])\n",
    "  plt.plot(history2.history['val_'+string])\n",
    "  plt.xlabel(\"Epochs\")\n",
    "  plt.ylabel(string)\n",
    "  plt.legend([string, 'val_'+string])\n",
    "  plt.title('Sentiment Classification Performance')\n",
    "  plt.show()\n",
    "\n",
    "plot_graphs2(history2, 'accuracy')"
   ]
  },
  {
   "cell_type": "markdown",
   "metadata": {},
   "source": [
    "### Loss"
   ]
  },
  {
   "cell_type": "code",
   "execution_count": 36,
   "metadata": {},
   "outputs": [
    {
     "data": {
      "image/png": "[encoded data removed]",
      "text/plain": [
       "<Figure size 432x288 with 1 Axes>"
      ]
     },
     "metadata": {
      "needs_background": "light"
     },
     "output_type": "display_data"
    }
   ],
   "source": [
    "loss = history1.history['loss']\n",
    "val_loss = history1.history['val_loss']\n",
    "\n",
    "epochs = range(len(loss))\n",
    "\n",
    "plt.plot(epochs, loss, 'r', label='Training Loss')\n",
    "plt.plot(epochs, val_loss, 'b', label='Validation Loss')\n",
    "plt.title('Training and Validation Loss for Aspect Categorization')\n",
    "plt.legend()\n",
    "\n",
    "plt.show()"
   ]
  },
  {
   "cell_type": "code",
   "execution_count": 37,
   "metadata": {},
   "outputs": [
    {
     "data": {
      "image/png": "[encoded data removed]",
      "text/plain": [
       "<Figure size 432x288 with 1 Axes>"
      ]
     },
     "metadata": {
      "needs_background": "light"
     },
     "output_type": "display_data"
    }
   ],
   "source": [
    "loss = history2.history['loss']\n",
    "val_loss = history2.history['val_loss']\n",
    "\n",
    "epochs = range(len(loss))\n",
    "\n",
    "plt.plot(epochs, loss, 'r', label='Training Loss')\n",
    "plt.plot(epochs, val_loss, 'b', label='Validation Loss')\n",
    "plt.title('Training and Validation Loss for Sentimental Classification')\n",
    "plt.legend()\n",
    "\n",
    "plt.show()"
   ]
  },
  {
   "cell_type": "markdown",
   "metadata": {},
   "source": [
    "## Test"
   ]
  },
  {
   "cell_type": "code",
   "execution_count": 34,
   "metadata": {},
   "outputs": [
    {
     "name": "stdout",
     "output_type": "stream",
     "text": [
      "['LAPTOP#DESIGN_FEATURES']\n"
     ]
    }
   ],
   "source": [
    "#Test on single random instance\n",
    "\n",
    "instance = np.asarray([\"I\"])\n",
    "instance = tokenizer.texts_to_sequences(instance)\n",
    "instance = pad_sequences(instance, padding='post', maxlen=100)\n",
    "\n",
    "# Predict Aspect\n",
    "pred_in1 = model1.predict(instance)\n",
    "aspects_in = pred_in1.argmax(axis=-1)\n",
    "print(pre1.inverse_transform(aspects_in))"
   ]
  },
  {
   "cell_type": "code",
   "execution_count": 35,
   "metadata": {},
   "outputs": [
    {
     "name": "stdout",
     "output_type": "stream",
     "text": [
      "['negative']\n"
     ]
    }
   ],
   "source": [
    "# Predict Sentiment\n",
    "pred_in2 = model2.predict(instance)\n",
    "labs_in = pred_in2.argmax(axis=-1)\n",
    "print(pre2.inverse_transform(labs_in))"
   ]
  },
  {
   "cell_type": "markdown",
   "metadata": {},
   "source": [
    "## Embedding Projection"
   ]
  },
  {
   "cell_type": "code",
   "execution_count": 24,
   "metadata": {},
   "outputs": [
    {
     "name": "stdout",
     "output_type": "stream",
     "text": [
      "{1: '<OOV>', 2: 'the', 3: 'i', 4: 'it', 5: 'and', 6: 'to', 7: 'a', 8: 'is', 9: 'for', 10: 'of', 11: 'this', 12: 'my', 13: 'have', 14: 'laptop', 15: 'that', 16: 'with', 17: 'computer', 18: 'was', 19: 'not', 20: 'in', 21: 'nan', 22: 'on', 23: 'very', 24: 'but', 25: 'use', 26: 'great', 27: 'had', 28: 'so', 29: 'you', 30: 'has', 31: 'as', 32: 'one', 33: 'all', 34: 'easy', 35: 'me', 36: 'only', 37: 'battery', 38: 'good', 39: 'just', 40: 'bought', 41: 'up', 42: 'be', 43: 'after', 44: 'do', 45: 'are', 46: 'macbook', 47: 'love', 48: 'its', 49: 'well', 50: 'no', 51: 'screen', 52: 'more', 53: 'am', 54: \"it's\", 55: 'life', 56: 'toshiba', 57: 'like', 58: 'about', 59: 'mac', 60: 'from', 61: 'get', 62: 'than', 63: 'would', 64: 'time', 65: 'really', 66: 'windows', 67: 'first', 68: 'pro', 69: 'or', 70: 'out', 71: 'they', 72: 'everything', 73: 'product', 74: 'price', 75: 'can', 76: 'at', 77: 'any', 78: 'pc', 79: 'work', 80: 'will', 81: '2', 82: 'an', 83: 'quality', 84: 'when', 85: 'months', 86: 'keyboard', 87: \"i've\", 88: 'if', 89: 'what', 90: 'then', 91: 'we', 92: 'fast', 93: 'hard', 94: 'drive', 95: 'got', 96: 'because', 97: 'problems', 98: \"don't\", 99: 'buy', 100: 'never', 101: 'ever', 102: 'machine', 103: 'speed', 104: 'much', 105: 'need', 106: 'long', 107: 'back', 108: 'since', 109: 'purchased', 110: '1', 111: \"i'm\", 112: 'laptops', 113: 'apple', 114: 'been', 115: 'little', 116: 'used', 117: 'years', 118: 'even', 119: '7', 120: 'also', 121: 'thing', 122: 'best', 123: 'does', 124: 'which', 125: 'by', 126: 'perfect', 127: 'new', 128: 'works', 129: 'needs', 130: 'still', 131: 'system', 132: 'power', 133: 'software', 134: 'there', 135: 'slow', 136: 'netbook', 137: 'graphics', 138: 'dell', 139: 'some', 140: '3', 141: 'over', 142: 'how', 143: 'other', 144: 'features', 145: 'were', 146: 'went', 147: 'hp', 148: 'awesome', 149: 'now', 150: \"can't\", 151: 'pad', 152: 'notebook', 153: 'could', 154: 'size', 155: 'another', 156: 'working', 157: 'better', 158: 'way', 159: 'happy', 160: 'amazing', 161: 'bad', 162: 'right', 163: 'day', 164: 'money', 165: 'display', 166: 'always', 167: 'most', 168: 'problem', 169: 'excellent', 170: 'owned', 171: 'want', 172: 'nice', 173: 'did', 174: 'needed', 175: 'too', 176: 'performance', 177: 'home', 178: 'top', 179: 'around', 180: 'internet', 181: 'make', 182: 'their', 183: '5', 184: 'able', 185: 'light', 186: 'enough', 187: 'games', 188: 'web', 189: 'design', 190: 'them', 191: 'take', 192: 'desktop', 193: 'looking', 194: 'far', 195: 'made', 196: 'worth', 197: 'took', 198: 'small', 199: 'say', 200: 'your', 201: 'both', 202: 'month', 203: 'few', 204: 'while', 205: 'again', 206: 'going', 207: 'without', 208: 'carry', 209: 'help', 210: 'key', 211: 'hours', 212: 'overall', 213: 'before', 214: 'mouse', 215: 'open', 216: 'programs', 217: 'send', 218: 'having', 219: 'two', 220: 'three', 221: 'our', 222: 'ease', 223: 'using', 224: 'deal', 225: 'pcs', 226: 'memory', 227: 'every', 228: 'runs', 229: 'into', 230: 'many', 231: 'school', 232: 'year', 233: 'weeks', 234: 'email', 235: 'operating', 236: 'same', 237: 'stopped', 238: '10', 239: '8', 240: 'sound', 241: 'feel', 242: 'being', 243: 'wonderful', 244: 'replaced', 245: 'box', 246: 'worked', 247: 'once', 248: 'gaming', 249: 'though', 250: 'user', 251: 'getting', 252: 'fine', 253: 'nothing', 254: 'tell', 255: 'hate', 256: 'college', 257: 'something', 258: 'recommend', 259: 'last', 260: 'start', 261: 'bit', 262: 'see', 263: 'things', 264: 'line', 265: '4', 266: 'touch', 267: 'repair', 268: 'glad', 269: 'os', 270: 'found', 271: 'support', 272: 'music', 273: 'big', 274: 'run', 275: 'build', 276: 'wanted', 277: 'replace', 278: 'service', 279: 'port', 280: 'warranty', 281: 'weight', 282: 'charge', 283: 'online', 284: 'old', 285: 'find', 286: 'etc', 287: 'extra', 288: 'through', 289: 'play', 290: 'came', 291: 'almost', 292: 'different', 293: 'starter', 294: 'warrenty', 295: 'dvd', 296: 'understand', 297: 'high', 298: 'seems', 299: 'hardware', 300: \"didn't\", 301: \"doesn't\", 302: 'trying', 303: 'already', 304: 'look', 305: 'worst', 306: 'touchpad', 307: 'repaired', 308: 'business', 309: 'less', 310: 'phone', 311: 'satellite', 312: 'short', 313: 'speakers', 314: 'computers', 315: 'ago', 316: 'super', 317: 'quite', 318: 'pretty', 319: 'fix', 320: 'upgrade', 321: 'side', 322: 'office', 323: 'processor', 324: 'later', 325: 'thought', 326: 'change', 327: 'value', 328: 'done', 329: 'mine', 330: 'usb', 331: 'come', 332: 'days', 333: 'called', 334: 'built', 335: 'family', 336: 'purchase', 337: 'several', 338: 'set', 339: 'lightweight', 340: 'tried', 341: 'buttons', 342: 'easily', 343: 'know', 344: \"won't\", 345: 'go', 346: 'keep', 347: 'think', 348: 'week', 349: 'next', 350: 'designed', 351: 'making', 352: 'such', 353: 'past', 354: 'person', 355: 'taking', 356: 'however', 357: 'solid', 358: 'connect', 359: 'issue', 360: 'gift', 361: 'cheap', 362: 'benefits', 363: 'hour', 364: '15', 365: 'twice', 366: 'kind', 367: 'own', 368: 'broke', 369: 'gets', 370: 'sometimes', 371: 'her', 372: 'might', 373: 'who', 374: 'fact', 375: 'should', 376: 'ram', 377: 'let', 378: 'defective', 379: 'plenty', 380: 'satisfied', 381: 'cd', 382: 'seen', 383: 'free', 384: 'maybe', 385: 'portability', 386: 'heavy', 387: 'wireless', 388: 'anywhere', 389: 'fixed', 390: 'viruses', 391: 'times', 392: 'learn', 393: 'issues', 394: 'call', 395: 'takes', 396: 'constantly', 397: 'cost', 398: 'webcam', 399: 'durable', 400: 'case', 401: 'definitely', 402: 'delivery', 403: 'editing', 404: 'expected', 405: 'worse', 406: 'started', 407: 'within', 408: 'apart', 409: 'lot', 410: 'meets', 411: 'off', 412: '6', 413: 'browsing', 414: 'him', 415: 'personal', 416: 'daughter', 417: 'book', 418: 'supply', 419: 'early', 420: 'model', 421: 'w', 422: 'hot', 423: 'down', 424: 'mail', 425: 'easier', 426: 'volume', 427: 'front', 428: 'vista', 429: 'basic', 430: 'wish', 431: '13', 432: 'applications', 433: 'keys', 434: 'return', 435: 'company', 436: 'although', 437: 'difference', 438: \"wasn't\", 439: 'resolution', 440: 'spent', 441: 'shows', 442: 'instead', 443: 'disk', 444: 'single', 445: 'itself', 446: 'left', 447: 'board', 448: 'clear', 449: 'tech', 450: 'held', 451: 'told', 452: 'plus', 453: 'replacement', 454: 'average', 455: 'anything', 456: 'type', 457: 'given', 458: 'track', 459: 'extremely', 460: 'simple', 461: 'keeps', 462: 'friend', 463: 'owning', 464: 'looks', 465: 'he', 466: 'anyone', 467: 'previous', 468: 'sized', 469: 'lots', 470: 'processing', 471: 'word', 472: 'services', 473: 'quick', 474: 'world', 475: 'impressed', 476: 'she', 477: 'doing', 478: 'makes', 479: 'mostly', 480: 'awful', 481: \"you're\", 482: 'macs', 483: 'including', 484: 'acer', 485: 'give', 486: 'space', 487: 'try', 488: 'exceeded', 489: 'freezing', 490: 'brand', 491: 'couple', 492: 'student', 493: 'gave', 494: 'point', 495: 'hook', 496: 'network', 497: 'finding', 498: 'large', 499: 'move', 500: 'cannot', 501: 'nightmare', 502: 'real', 503: 'error', 504: 'various', 505: 'uses', 506: 'wife', 507: 'said', 508: 'decision', 509: 'regular', 510: 'travel', 511: 'microsoft', 512: \"couldn't\", 513: 'hd', 514: 'card', 515: 'store', 516: 'depot', 517: 'worry', 518: 'forced', 519: 'turn', 520: 'listen', 521: 'videos', 522: 'finally', 523: 'exchanged', 524: 'page', 525: 'poorly', 526: 'parents', 527: 'stuff', 528: 'boy', 529: 'ordered', 530: 'check', 531: 'write', 532: 'expect', 533: 'save', 534: 'charger', 535: 'kids', 536: 'wifi', 537: 'else', 538: 'external', 539: 'retina', 540: 'goes', 541: 'pleased', 542: 'away', 543: 'customer', 544: 'absolutely', 545: 'except', 546: 'loved', 547: 'i5', 548: 'recommended', 549: 'fit', 550: 'purchasing', 551: 'computing', 552: 'above', 553: 'serves', 554: 'husband', 555: 'buying', 556: 'surfing', 557: 'portable', 558: 'received', 559: 'o', 560: 'summary', 561: 'dont', 562: 'research', 563: 'probably', 564: 'strong', 565: 'device', 566: 'daily', 567: 'compact', 568: 'people', 569: 'barely', 570: 'pricey', 571: 'someone', 572: 'flawlessly', 573: 'everyday', 574: 'video', 575: 'models', 576: 'graphic', 577: '100', 578: 'unit', 579: 'decided', 580: 'market', 581: 'asus', 582: 'part', 583: 'switch', 584: 'sure', 585: 'black', 586: 'compaq', 587: 'here', 588: 'drawback', 589: 'friendly', 590: 'faster', 591: 'fits', 592: 'paying', 593: 'plug', 594: 'camera', 595: 'monitor', 596: 'included', 597: 'bigger', 598: 'number', 599: 'place', 600: 'returned', 601: 'watch', 602: 'trial', 603: 'minutes', 604: 'complain', 605: 'crashes', 606: 'facebook', 607: 'speaker', 608: 'programming', 609: 'yes', 610: 'burner', 611: 'running', 612: 'access', 613: 'standard', 614: 'extended', 615: 'aware', 616: 'comes', 617: 'hooked', 618: 'functions', 619: 'incredibly', 620: \"haven't\", 621: 'major', 622: 'failed', 623: 'trip', 624: 'gorgeous', 625: 'second', 626: 'enjoy', 627: 'lasting', 628: 'paid', 629: 'full', 630: 'investment', 631: 'believe', 632: 'biggest', 633: 'previously', 634: 'until', 635: 'under', 636: 'media', 637: 'reliable', 638: 'completely', 639: 'fantastic', 640: 'general', 641: 'expectations', 642: 'storage', 643: 'imagine', 644: 'im', 645: 'boot', 646: 'exactly', 647: \"there's\", 648: 'course', 649: 'intuitive', 650: 'died', 651: 'rest', 652: 'cause', 653: 'homework', 654: 'yahoo', 655: 'beat', 656: 'wheel', 657: 'blank', 658: 'pick', 659: 'dislike', 660: 'reasonable', 661: 'hsn', 662: 'enable', 663: 'clarity', 664: 'wonder', 665: 'environment', 666: 'spend', 667: 'between', 668: 'met', 669: 'requirements', 670: 'game', 671: 'install', 672: 'apps', 673: 'data', 674: 'favorite', 675: 'bummer', 676: 'pointer', 677: '1st', 678: 'seamless', 679: 'lasted', 680: 's', 681: 'files', 682: 'brought', 683: 'expensive', 684: 'professional', 685: 'depending', 686: 'add', 687: 'gb', 688: 'shipped', 689: 'fabulous', 690: 'adding', 691: 'crap', 692: 'bugged', 693: 'block', 694: 'loaded', 695: 'downfall', 696: 'control', 697: 'fan', 698: 'feature', 699: 'machines', 700: 'graduation', 701: 'dollars', 702: 'broken', 703: 'sent', 704: 'loud', 705: 'headphones', 706: 'these', 707: 'custom', 708: 'techie', 709: 'turns', 710: 'technical', 711: 'powerful', 712: 'opinion', 713: 'shop', 714: 'tv', 715: 'idea', 716: 'smoothly', 717: 'seconds', 718: 'fi', 719: 'regret', 720: 'connected', 721: 'giving', 722: 'notebooks', 723: 'teaching', 724: 'pictures', 725: 'picture', 726: 'weak', 727: 'win', 728: 'country', 729: 'live', 730: '0', 731: 'fell', 732: 'why', 733: 'suggest', 734: 'background', 735: 'via', 736: 'garageband', 737: 'cool', 738: 'reputation', 739: 'mic', 740: 'freezes', 741: 'restart', 742: 'quiet', 743: 'difficult', 744: 'internal', 745: 'cord', 746: 'awesomest', 747: 'blue', 748: 'crashing', 749: 'playing', 750: 'putting', 751: 'date', 752: 'adapter', 753: 'terms', 754: 'dust', 755: 'reinstall', 756: 'beautiful', 757: 'lenovo', 758: 'whole', 759: 'loads', 760: 'sleek', 761: 'lacking', 762: 'receive', 763: 'operation', 764: 'piece', 765: 'covers', 766: 'wires', 767: 'wait', 768: 'expired', 769: 'apparently', 770: 'lack', 771: 'level', 772: 'his', 773: 'child', 774: 'ideal', 775: 'job', 776: 'navigate', 777: 'nicely', 778: 'movie', 779: 'saying', 780: 'update', 781: 'button', 782: '3rd', 783: 'experience', 784: 'constant', 785: 'mom', 786: 'reports', 787: \"pc's\", 788: 'clean', 789: 'smooth', 790: 'ask', 791: 'sense', 792: 'longer', 793: 'hrs', 794: 'premium', 795: 'rather', 796: 'i7', 797: 'inch', 798: 'room', 799: 'preloaded', 800: 'websites', 801: 'complaint', 802: 'pay', 803: 'edge', 804: 'artist', 805: 'class', 806: 'ok', 807: 'unlike', 808: 'baby', 809: 'booting', 810: '2007', 811: 'beginning', 812: 'simply', 813: 'may', 814: 'heck', 815: 'horse', 816: 'everyone', 817: 'switched', 818: 'unibody', 819: 'story', 820: 'leaves', 821: 'alot', 822: 'specifications', 823: \"you'll\", 824: \"they're\", 825: 'besides', 826: 'plan', 827: 'gateway', 828: 'nov', 829: 'push', 830: 'result', 831: 'sucks', 832: 'complaints', 833: \"isn't\", 834: 'adapt', 835: 'backlit', 836: 'reason', 837: 'bar', 838: 'frustrating', 839: 'ipad', 840: 'learning', 841: 'curve', 842: 'lighter', 843: 'gamer', 844: 'colors', 845: 'provides', 846: 'doesnt', 847: 'advanced', 848: 'sensitive', 849: 'priced', 850: 'review', 851: 'seeing', 852: 'amount', 853: 'cable', 854: 'vga', 855: 'sharp', 856: 'u', 857: 'hold', 858: 'functionality', 859: 'kinda', 860: 'lock', 861: 'july', 862: 'performing', 863: 'six', 864: 'ports', 865: 'mid', 866: 'those', 867: 'resolved', 868: 'put', 869: 'security', 870: 'post', 871: 'load', 872: 'shuts', 873: 'isnt', 874: 'wear', 875: 'sit', 876: 'often', 877: 'movies', 878: 'xp', 879: 'ran', 880: 'normal', 881: 'sales', 882: 'looked', 883: 'poor', 884: 'disappointing', 885: 'impossible', 886: 'wi', 887: 'four', 888: 'wont', 889: 'clunky', 890: 'breaks', 891: 'blazing', 892: 'winner', 893: 'properly', 894: 'upset', 895: 'somewhat', 896: 'stars', 897: 'loves', 898: 'stuck', 899: 'led', 900: 'calls', 901: 'terrible', 902: 'ones', 903: 'font', 904: 'factor', 905: 'either', 906: 'speedy', 907: 'regardless', 908: 'connection', 909: 'delivers', 910: 'criteria', 911: 'purposes', 912: 'turned', 913: 'e', 914: 'cant', 915: 'jumped', 916: 'exposed', 917: 'crystal', 918: 'responsive', 919: 'each', 920: 'reach', 921: 'saw', 922: 'reliability', 923: 'notch', 924: 'browser', 925: 'ethernet', 926: 'where', 927: 'non', 928: 'nearly', 929: 'trouble', 930: 'excel', 931: \"that's\", 932: 'decent', 933: 'amazon', 934: 'waited', 935: 'us', 936: 'plastic', 937: 'crashed', 938: 'whatever', 939: 'perfectly', 940: 'bill', 941: 'advertised', 942: '17', 943: 'son', 944: 'surprised', 945: 'searching', 946: 'lap', 947: '16', 948: '2nd', 949: 'checking', 950: 'watching', 951: \"let's\", 952: 'opened', 953: 'beauty', 954: 'offers', 955: 'become', 956: 'pros', 957: '2005', 958: 'stunning', 959: 'intel', 960: 'moment', 961: 'present', 962: 'disappointment', 963: 'virus', 964: '2009', 965: 'pavilion', 966: 'unable', 967: 'boyfriend', 968: 'science', 969: 'longevity', 970: 'shockingly', 971: 'bed', 972: 'sitting', 973: 'pages', 974: 'overheat', 975: 'taken', 976: 'printers', 977: 'headsets', 978: 'concerned', 979: 'pleasant', 980: 'surprise', 981: '9', 982: 'tag', 983: 'hassle', 984: 'repeated', 985: 'assistance', 986: 'bellying', 987: 'genius', 988: 'geek', 989: 'squad', 990: 'guys', 991: 'arent', 992: 'anymore', 993: 'securely', 994: 'attached', 995: 'convienent', 996: 'replacing', 997: 'lighted', 998: 'quit', 999: 'mind', 1000: 'usable', 1001: 'toy', 1002: 'not\\xa0', 1003: 'ths', 1004: 'unprecedented', 1005: 'low', 1006: 'affordability', 1007: 'cubersome', 1008: 'carrying', 1009: 'cases', 1010: 'supplier', 1011: 'nature', 1012: 'broad', 1013: 'dark', 1014: 'letters', 1015: 'avid', 1016: 'ascer', 1017: 'cheaper', 1018: 'equal', 1019: 'enjoying', 1020: 'sharpness', 1021: 'imformative', 1022: 'alerts', 1023: 'tutorials', 1024: 'technologically', 1025: 'beyond', 1026: 'duty', 1027: 'happier', 1028: 'effort', 1029: 'objection', 1030: 'charges', 1031: 'teacher', 1032: 'budget', 1033: 'shipping', 1034: 'tax', 1035: 'ca', 1036: 'especially', 1037: 'wt', 1038: 'accommodates', 1039: 'hands', 1040: 'fantasic', 1041: 'insane', 1042: 'lcd', 1043: 'children', 1044: 'temp', 1045: 'tad', 1046: 'bias', 1047: 'transition', 1048: 'refurbished', 1049: 'cae', 1050: 'pray', 1051: 'prolems', 1052: 'demonstrated', 1053: '75', 1054: 'kitchen', 1055: 'table', 1056: 'testing', 1057: 'modern', 1058: 'useful', 1059: 'designers', 1060: 'area', 1061: 'performed', 1062: 'bookkeeping', 1063: 'decreased', 1064: 'thrilled', 1065: 'recovey', 1066: 'wouldnt', 1067: 'passed', 1068: 'recovery', 1069: 'caused', 1070: 'jump', 1071: 'registration', 1072: 'interfaces', 1073: 'purses', 1074: 'economy', 1075: 'bid', 1076: 'mainly', 1077: 'managing', 1078: 'pics', 1079: 'vids', 1080: 'defects', 1081: 'treated', 1082: 'incredible', 1083: '11', 1084: 'configure', 1085: 'settings', 1086: 'simplicity', 1087: '720p', 1088: '1080p', 1089: 'cutting', 1090: 'l455d', 1091: 'workhorse', 1092: 'ups', 1093: 'disappointments', 1094: 'stinks', 1095: 'skype', 1096: 'hinge', 1097: 'connections', 1098: 'depot\\xa0', 1099: 'june', 1100: '24', 1101: 'xl', 1102: 'served', 1103: 'improvements', 1104: 'existing', 1105: 'bumping', 1106: 'thunderbolt', 1107: 'actually', 1108: 'mother', 1109: 'agreed', 1110: 'responds', 1111: 'adobe', 1112: 'creative', 1113: 'efficiently', 1114: 'generic', 1115: 'continues', 1116: 'carved', 1117: 'aluminum', 1118: 'disapeared', 1119: 'downloaded', 1120: 'preformed', 1121: 'edition', 1122: 'explorer', 1123: 'land', 1124: 'myself', 1125: 'amd', 1126: 'semprom', 1127: 'ghz', 1128: 'town', 1129: '90s', 1130: 'higher', 1131: 'knows', 1132: 'manufacturing', 1133: 'defect', 1134: 'acknowledge', 1135: 'minor', 1136: 'quickly', 1137: 'vents', 1138: 'cooling', 1139: 'netbooks', 1140: 'together', 1141: 'plastic\\xa0pieces\\xa0would', 1142: 'totally', 1143: 'obsessed', 1144: 'generous', 1145: 'calling', 1146: 'assuring', 1147: 'connector', 1148: 'shortly', 1149: 'expires', 1150: 'film', 1151: 'production', 1152: 'primary', 1153: 'secondary', 1154: 'sub', 1155: 'par', 1156: 'textured', 1157: 'surface', 1158: 'fingerprints', 1159: 'worrying', 1160: 'quitting', 1161: 'prior', 1162: 'powerbook', 1163: 'g4', 1164: 'ive', 1165: 'main', 1166: 'desinged', 1167: '2200', 1168: 'elegant', 1169: 'blinks', 1170: 'discover', 1171: 'staples', 1172: 'luxury', 1173: 'sarcasm', 1174: 'due', 1175: 'accent', 1176: 'bundled', 1177: 'flight', 1178: 'airports', 1179: 'trips', 1180: 'agree', 1181: 'comment', 1182: 'horrible', 1183: 'con', 1184: 'blogs', 1185: 'papers', 1186: 'capable', 1187: 'credit', 1188: 'magnetically', 1189: 'flat', 1190: 'dies', 1191: 'loose', 1192: 'documents', 1193: 'mc373ll', 1194: '66ghz', 1195: 'macboook', 1196: 'tons', 1197: 'bloatware', 1198: 'junk', 1199: '18', 1200: '10th', 1201: 'soon', 1202: 'moving', 1203: 'finger', 1204: 'compared', 1205: 'weaknesses', 1206: 'videocard', 1207: 'fathom', 1208: 'celebrated', 1209: 'competition', 1210: 'products', 1211: 'survives', 1212: 'b', 1213: 'c', 1214: 'substandard', 1215: 'onto', 1216: 'captive', 1217: 'students', 1218: 'employees', 1219: 'question', 1220: 'raising', 1221: 'immediate', 1222: 'acting', 1223: 'fires', 1224: 'morning', 1225: '30', 1226: 'operate', 1227: 'gadgets', 1228: 'rolls', 1229: 'royce', 1230: 'waste', 1231: 'falling', 1232: 'internally', 1233: 'externally', 1234: 'talking', 1235: 'knowledgeable', 1236: 'associate', 1237: 'chose', 1238: 'white', 1239: 'appealing', 1240: 'm', 1241: '50', 1242: '150', 1243: 'holding', 1244: 'ten', 1245: \"ol'\", 1246: 'backpack', 1247: 'smaller', 1248: 'networks', 1249: 'highest', 1250: 'available', 1251: 'setting', 1252: 'edgy', 1253: 'burning', 1254: \"dvd'd\", 1255: 'during', 1256: \"manufacturer's\", 1257: 'parts', 1258: 'suffice', 1259: 'devices', 1260: 'stay', 1261: 'cr', 1262: 'rating', 1263: 'electronics', 1264: 'exceptional', 1265: 'wasy', 1266: 'appearance', 1267: 'placement', 1268: 'peformance', 1269: 'occasional', 1270: 'surfer', 1271: 'limiting', 1272: 'hafe', 1273: 'crisp', 1274: 'schools', 1275: 'rated', 1276: 'hesitate', 1277: 'true', 1278: \"eye'd\", 1279: 'bag', 1280: 'tap', 1281: 'equipment', 1282: 'complicated', 1283: 'routes', 1284: 'purpose', 1285: 'astonishing', 1286: 'otherwise', 1287: 'stand', 1288: 'ability', 1289: 'drop', 1290: 'bucks', 1291: 'robust', 1292: 'versions', 1293: 'grab', 1294: '2gb', 1295: 'stick', 1296: 'spice', 1297: 'balance', 1298: 'roles', 1299: 'manage', 1300: 'efficient', 1301: 'arrived', 1302: 'twin', 1303: 'packing', 1304: 'sealed', 1305: 'equipped', 1306: 'upgrading', 1307: 'thru', 1308: 'snap', 1309: 'indirectly', 1310: 'tranferring', 1311: 'kidding', 1312: 'history', 1313: 'list', 1314: 'actual', 1315: 'chat', 1316: 'contacted', 1317: 'hp\\xa0\\xa0about', 1318: 'situation', 1319: 'excuses', 1320: 'results', 1321: 'entire', 1322: 'living', 1323: 'plugged', 1324: \"i'll\", 1325: 'unfortunately', 1326: 'nephews', 1327: 'homeschool', 1328: 'desk', 1329: 'illustrating', 1330: 'skipping', 1331: \"she'd\", 1332: 'toshib', 1333: 'force', 1334: 'durability', 1335: 'unparalleled', 1336: 'compatible', 1337: 'frills', 1338: 'important', 1339: 'player', 1340: 'warcraft', 1341: 'wonderfully', 1342: 'aside', 1343: 'cheapest', 1344: 'planning', 1345: 'wonderfull', 1346: 'suggestions', 1347: 'fixing', 1348: 'terrific', 1349: 'bootcamp', 1350: 'default', 1351: 'occassionaly', 1352: 'vpn', 1353: 'newer', 1354: 'shut', 1355: 'unexpectedly', 1356: 'froze', 1357: 'malfunctioning', 1358: 'comparison', 1359: 'style', 1360: 'aprehensive', 1361: 'sophisticated', 1362: 'upgraded', 1363: 'base', 1364: 'wall', 1365: 'tosiba', 1366: 'llast', 1367: 'fancy', 1368: 'confident', 1369: 'appreciate', 1370: 'underscores', 1371: 'headphone', 1372: 'jack', 1373: 'mention', 1374: 'handed', 1375: 'bother', 1376: 'walmart', 1377: 'com', 1378: 'wirelessly', 1379: 'least', 1380: 'slowdown', 1381: 'locked', 1382: 'picked', 1383: 'definition', 1384: 'stability', 1385: 'stands', 1386: 'fingers', 1387: 'thinking', 1388: 'bright', 1389: 'novice', 1390: 'development', 1391: 'opted', 1392: 'lowest', 1393: 'end', 1394: 'holds', 1395: 'fuction', 1396: 'webpages', 1397: 'tower', 1398: 'stylish', 1399: 'forgot', 1400: 'hdmi', 1401: 'html', 1402: 'finances', 1403: 'scheduling', 1404: 'expenses', 1405: 'grew', 1406: 'bluray', 1407: 'read', 1408: 'local', 1409: 'today', 1410: 'investigation', 1411: 'nb205s', 1412: 'chronically', 1413: 'developed', 1414: 'ownership', 1415: 'covered', 1416: 'applecare', 1417: 'sends', 1418: 'screwed', 1419: 'snail', 1420: 'crawl', 1421: 'tim', 1422: 'unless', 1423: 'de', 1424: 'areas', 1425: \"toshiba's\", 1426: 'overheats', 1427: 'coming', 1428: 'core', 1429: 'crash', 1430: 'theirs', 1431: 'stack', 1432: 'against', 1433: 'antivirus', 1434: 'firewall', 1435: 'death', 1436: \"'old'\", 1437: 'indeed', 1438: 'letter', 1439: 'costed', 1440: '175', 1441: 'certain', 1442: 'becomes', 1443: 'had\\xa0a\\xa0compaq', 1444: 'pasaro\\xa0for', 1445: 'dangerous', 1446: 'emitting', 1447: 'heat', 1448: 'anyways', 1449: 'kept', 1450: 'message', 1451: 'vibration', 1452: 'temporaly', 1453: 'zone', 1454: 'young', 1455: 'lady', 1456: 'california', 1457: 'subsequently', 1458: 'current', 1459: 'asking', 1460: 'components', 1461: 'stops', 1462: 'classroom', 1463: \"it'll\", 1464: 'probbly', 1465: 'indent', 1466: 'luck', 1467: \"they've\", 1468: 'collectors', 1469: 'race', 1470: 'handiecap', 1471: 'races', 1472: 'proprietary', 1473: 'drivers', 1474: 'truly', 1475: 'packages', 1476: 'iwork', 1477: 'imovie', 1478: 'loss', 1479: 'field', 1480: 'crapped', 1481: 'posted', 1482: '2010', 1483: '700', 1484: 'rate', 1485: 'determined', 1486: 'dependable', 1487: 'operations', 1488: 'of\\xa0the', 1489: 'trend', 1490: 'micro', 1491: 'antiviral', 1492: 'program', 1493: 'tutorial', 1494: 'honest', 1495: 'complex', 1496: 'analysis', 1497: 'frustrated', 1498: 'systems', 1499: 'swore', 1500: 'consider', 1501: 'zero', 1502: 'contain', 1503: 'flash', 1504: 'eventually', 1505: 'recent', 1506: 'safari', 1507: 'freaking', 1508: 'firefox', 1509: 'gives', 1510: 'function', 1511: 'insert', 1512: 'test', 1513: 'wide', 1514: 'department', 1515: 'exhaust', 1516: 'browse', 1517: 'literally', 1518: 'lags', 1519: 'liked', 1520: 'returning', 1521: 'protector', 1522: 'road', 1523: 'red', 1524: 'matte', 1525: 'likes', 1526: 'mike', 1527: 'cables', 1528: 'handle', 1529: 'figured', 1530: \"i'd\", 1531: 'press', 1532: 'download', 1533: '2014', 1534: 'larger', 1535: 'highly', 1536: 'state', 1537: 'feels', 1538: 'star', 1539: 'late', 1540: 'lifelong', 1541: 'oh', 1542: 'goodness', 1543: 'camper', 1544: 'laptob', 1545: 'qosmio', 1546: 'father', 1547: 'gotten', 1548: 'expectation', 1549: 'capacity', 1550: 'plain', 1551: 'dependability', 1552: 'shown', 1553: 'salesman', 1554: 'talked', 1555: 'heard', 1556: 'improving', 1557: 'outstanding', 1558: 'excited', 1559: 'l455', 1560: 'bonus', 1561: 'rarely', 1562: 'saved', 1563: 'personally', 1564: 'moth', 1565: 'hardrive', 1566: 'original', 1567: 'vacation', 1568: 'lugging', 1569: 'heavier', 1570: 'image', 1571: 'soud', 1572: 'excelent', 1573: 'glass', 1574: 'senior', 1575: 'affecting', 1576: 'arthritis', 1577: 'needless', 1578: 'winning', 1579: 'combination', 1580: 'greatest', 1581: 'investments', 1582: 'consumer', 1583: 'report', 1584: 'resolutions', 1585: 'affordable', 1586: 'entry', 1587: 'casing', 1588: 'largest', 1589: 'action', 1590: 'pack', 1591: 'financially', 1592: 'self', 1593: 'employed', 1594: 'kyle', 1595: 'oldest', 1596: '12', 1597: 'reg', 1598: \"dosen't\", 1599: 'companion', 1600: 'head', 1601: 'shoulders', 1602: 'awsome', 1603: 'althougth', 1604: 'secure', 1605: 'specifially', 1606: 'attending', 1607: 'schooling', 1608: 'macconnection', 1609: 'net', 1610: 'operates', 1611: 'traveling', 1612: 'functional', 1613: 'shopped', 1614: 'okay', 1615: 'techy', 1616: 'labtop', 1617: 'mini', 1618: 'nb', 1619: '305', 1620: 'n410bl', 1621: 'break', 1622: 'downs', 1623: 'hotlines', 1624: 'shutting', 1625: 'headache', 1626: 'macbooks', 1627: 'intuition', 1628: 'technological', 1629: 'advances', 1630: 'associated', 1631: 'third', 1632: 'netboook', 1633: 'helping', 1634: 'buyer', 1635: 'amazed', 1636: 'lasts', 1637: 'response', 1638: \"she's\", 1639: 'focused', 1640: 'activity', 1641: 'osx', 1642: 'unexpected', 1643: 'pluses', 1644: 'fun', 1645: 'era', 1646: 'satisfy', 1647: 'ratio', 1648: 'oline', 1649: 'classes', 1650: 'upgreade', 1651: 'patches', 1652: 'hack', 1653: 'sells', 1654: 'sacrificing', 1655: 'couldnt', 1656: 'adjustment', 1657: 'knapsack', 1658: 'text', 1659: 'books', 1660: 'adds', 1661: '4in', 1662: 'waiting', 1663: 'issued', 1664: 'yet', 1665: 'wal', 1666: 'mart', 1667: 'item', 1668: 'ton', 1669: 'compliments', 1670: 'speaking', 1671: 'regularly', 1672: 'commutes', 1673: 'bus', 1674: 'attest', 1675: 'restricted', 1676: 'width', 1677: 'body', 1678: 'owner', 1679: 'satalite', 1680: 'performs', 1681: 'asked', 1682: 'streaming', 1683: 'bound', 1684: 'encounter', 1685: 'l305d', 1686: 's5934', 1687: 'unusable', 1688: 'handles', 1689: 'processors', 1690: 'comfortable', 1691: 'edges', 1692: 'hurt', 1693: 'wrists', 1694: 'ha', 1695: 'chrismas', 1696: 'expensve', 1697: 'm60', 1698: 'harman', 1699: 'kardon', 1700: 'december', 1701: 'joy', 1702: 'freelance', 1703: 'compuer', 1704: 'esay', 1705: 'fall', 1706: 'series', 1707: 'devised', 1708: 'researching', 1709: 'brands', 1710: 'prices', 1711: 'emachines', 1712: 'january', 1713: 'highly\\xa0dissatisfied', 1714: 'peice', 1715: 'machinery', 1716: 'outside', 1717: 'iphone', 1718: 'wpm', 1719: 'comfortble', 1720: 'sticking', 1721: 'lagging', 1722: 'strange', 1723: 'configuration', 1724: 'lame', 1725: 'heated', 1726: 'responding', 1727: 'pleasantly', 1728: 'bindings', 1729: 'allows', 1730: 'fail', 1731: 'abilitiy', 1732: 'beginners', 1733: 'household', 1734: 'huge', 1735: 'tired', 1736: 'anti', 1737: 'august', 1738: 'shiny', 1739: 'hewlett', 1740: 'packard', 1741: 'man', 1742: 'feb', 1743: '201', 1744: 'smartest', 1745: 'compare', 1746: 'frustration', 1747: 'friends', 1748: 'enemies', 1749: 'absolute', 1750: 'dv4', 1751: '1222nr', 1752: '07', 1753: 'meant', 1754: 'nb205', 1755: 'accident', 1756: 'burners', 1757: 'desired', 1758: \"today's\", 1759: 'fighting', 1760: 'marketshare', 1761: 'shame', 1762: 'inept', 1763: 'staff', 1764: 'answering', 1765: 'thephone', 1766: 'z0j80001', 1767: 'integral', 1768: 'completing', 1769: 'social', 1770: 'networking', 1771: 'thinks', 1772: 'overpriced', 1773: 'overrated', 1774: 'initial', 1775: 'expense', 1776: 'penny', 1777: 'financing', 1778: 'nv78', 1779: '09', 1780: 'lid', 1781: 'easiest', 1782: 'click', 1783: 'decently', 1784: 'printer', 1785: 'strengths', 1786: 'shaped', 1787: 'hateful', 1788: 'choice', 1789: 'g60', 1790: '244dx', 1791: 'recycled', 1792: '600', 1793: 'saturday', 1794: 'doubt', 1795: 'goodies', 1796: 'inside', 1797: 'regretted', 1798: 'sits', 1799: 'jar', 1800: 'motherboard', 1801: 'initially', 1802: 'april', 1803: 'specs', 1804: 'latitude', 1805: 'd620', 1806: 'dv9000', 1807: 'rocked', 1808: 'sites', 1809: 'amazingly', 1810: 'boots', 1811: 'ssd', 1812: 'mobility', 1813: 'benchmark', 1814: 'accordingly', 1815: 'complains', 1816: 'cared', 1817: 'advise', 1818: 'prospective', 1819: 'buyers', 1820: 'cent', 1821: 'serious', 1822: 'realize', 1823: 'disc', 1824: 'beautifully', 1825: 'math', 1826: 'introduction', 1827: 'hope', 1828: 'discontinued', 1829: 'future', 1830: 'cds', 1831: 'accounts', 1832: 'fired', 1833: 'timed', 1834: 'anyway', 1835: 'connecting', 1836: 'bills', 1837: 'occasionally', 1838: 'reading', 1839: 'news', 1840: 'negative', 1841: 'wow', 1842: '249', 1843: 'forever', 1844: 'slowly', 1845: 'becoming', 1846: 'defenitly', 1847: 'usual', 1848: 'interface', 1849: 'superdrive', 1850: 'period', 1851: 'masterpiece', 1852: 'trackpad', 1853: 'grease', 1854: 'oil', 1855: 'manner', 1856: 'substances', 1857: 'types', 1858: 'usage', 1859: 'show', 1860: 'accessed', 1861: 'unrivaled', 1862: \"week's\", 1863: 'anticipate', 1864: 'experiences', 1865: 'air', 1866: 'opening', 1867: 'joke', 1868: 'causing', 1869: '7gz', 1870: '250', 1871: 'steps', 1872: 'w7', 1873: 'w8', 1874: 'frequently', 1875: 'range', 1876: 'layout', 1877: 'feeling', 1878: 'lick', 1879: 'experiencing', 1880: 'slower', 1881: 'presentation', 1882: 'setup', 1883: 'despite', 1884: 'optical', 1885: 'warriors', 1886: 'plays', 1887: 'tasks', 1888: 'inexpensive', 1889: 'touchscreen', 1890: 'material', 1891: 'backlight', 1892: 'widows', 1893: 'nurse', 1894: 'chart', 1895: 'rom', 1896: 'proper', 1897: 'maximum', 1898: 'dealing', 1899: 'ridiculous', 1900: 'painful', 1901: 'sellers', 1902: 'microphone', 1903: 'input', 1904: 'combo', 1905: 'reviewers', 1906: 'comments', 1907: 'nicest', 1908: \"we've\", 1909: '31', 1910: 'says', 1911: 'failing', 1912: 'neither', 1913: 'afford', 1914: 'opportunity', 1915: 'manufacturer', 1916: 'ofconnection', 1917: 'instructions', 1918: 'savvy', 1919: 'adaptors', 1920: 'birthday', 1921: 'transitional', 1922: 'jobs', 1923: 'university', 1924: '4590', 1925: 'gtx', 1926: '760', 1927: 'crazy', 1928: \"'a'\", 1929: 'became', 1930: 'jammed', 1931: \"wouldn't\", 1932: 'felt', 1933: 'slowwwwww', 1934: 'loyal', 1935: 'difficulty', 1936: 'print', 1937: 'wavered', 1938: 'ended', 1939: 'choosing', 1940: 'sorry', 1941: 'beeping', 1942: 'connectibility', 1943: 'slot', 1944: 'sd', 1945: 'hey', 1946: 'firstly', 1947: 'leds', 1948: 'cap', 1949: 'indicator', 1950: 'itunes', 1951: 'instruction', 1952: \"cd's\", 1953: 'disappoint', 1954: 'sony', 1955: 'couch', 1956: 'surf', 1957: 'offering', 1958: 'cons', 1959: 'hit', 1960: 'facial', 1961: 'recognition', 1962: 'advertises', 1963: 'locks', 1964: 'updates', 1965: 'known', 1966: 'fragile', 1967: 'spinning', 1968: 'below', 1969: 'bottom', 1970: 'linux', 1971: 'odd', 1972: 'unusual', 1973: 'commands', 1974: 'refund', 1975: 'account', 1976: 'mistake', 1977: 'ad', 1978: 'wonky', 1979: 'f', 1980: 'infrequently', 1981: \"what's\", 1982: 'readmy', 1983: 'kindle', 1984: 'avoid', 1985: 'profile', 1986: 'sibelius', 1987: 'half', 1988: 'age', 1989: 'necessity', 1990: 'rj', 1991: '45', 1992: 'wired', 1993: 'chance', 1994: 'habit', 1995: 'restarting', 1996: 'log', 1997: 'pw', 1998: 'youtube', 1999: 'hulu', 2000: 'primarily', 2001: 'outlook', 2002: 'inspiron', 2003: 'pecking', 2004: 'numbers', 2005: 'stock', 2006: 'wd', 2007: '7k', 2008: '60s', 2009: 'particularly', 2010: 'square', 2011: 'trade', 2012: 'pressured', 2013: 'medium', 2014: 'scale', 2015: 'increases', 2016: 'bootup', 2017: 'slim', 2018: 'form', 2019: 'mean', 2020: 'wise', 2021: 'celeron', 2022: 'champion', 2023: 'performer', 2024: 'router', 2025: 'cover', 2026: 'soft', 2027: 'rubber', 2028: 'texture', 2029: 'friction', 2030: 'adequate', 2031: 'concern', 2032: 'starts', 2033: 'length', 2034: 'communicate', 2035: 'ear', 2036: 'plugs', 2037: 'headset', 2038: 'close', 2039: 'cluttered', 2040: 'bunch', 2041: 'option', 2042: 'stream', 2043: 'prime', 2044: 'netflix', 2045: 'lag', 2046: 'seem', 2047: 'clunker', 2048: 'delivered', 2049: 'stubborn', 2050: 'hell', 2051: 'slipping', 2052: 'ground', 2053: 'phased', 2054: 'pin', 2055: 'unannounced', 2056: 'shattered', 2057: 'million', 2058: 'pieces', 2059: 'malwarebytes', 2060: 'essentials', 2061: 'scan', 2062: 'smoother', 2063: 'butter', 2064: 'hinges', 2065: 'tight', 2066: '20', 2067: 'claims', 2068: 'thousands', 2069: 'mechanical', 2070: 'strokes', 2071: 'unresponsive', 2072: 'successfully', 2073: 'window', 2074: 'closed', 2075: 'manual', 2076: 'damn', 2077: 'royal', 2078: 'pain', 2079: \"i'\", 2080: 'doi9ng', 2081: 'bug', 2082: 'craft', 2083: 'fault', 2084: 'reviews', 2085: 'positive', 2086: 'selling', 2087: 'f5', 2088: 'pricing', 2089: 'supported'}\n"
     ]
    }
   ],
   "source": [
    "reverse_word_index = dict([(value, key) for (key, value) in w_i.items()])\n",
    "\n",
    "def decode_sentence(text):\n",
    "    return ' '.join([reverse_word_index.get(i, '?') for i in text])\n",
    "print(reverse_word_index)"
   ]
  },
  {
   "cell_type": "code",
   "execution_count": 21,
   "metadata": {},
   "outputs": [
    {
     "name": "stdout",
     "output_type": "stream",
     "text": [
      "(2100, 24)\n"
     ]
    }
   ],
   "source": [
    "e1 = model1.layers[0]\n",
    "weights1 = e1.get_weights()[0]\n",
    "print(weights1.shape)"
   ]
  },
  {
   "cell_type": "code",
   "execution_count": 22,
   "metadata": {},
   "outputs": [
    {
     "name": "stdout",
     "output_type": "stream",
     "text": [
      "(2100, 8)\n"
     ]
    }
   ],
   "source": [
    "e2 = model2.layers[0]\n",
    "weights2 = e2.get_weights()[0]\n",
    "print(weights2.shape)"
   ]
  },
  {
   "cell_type": "code",
   "execution_count": 23,
   "metadata": {},
   "outputs": [],
   "source": [
    "import io\n",
    "\n",
    "out_v = io.open('vecs2.tsv', 'w', encoding='utf-8')\n",
    "out_m = io.open('meta2.tsv', 'w', encoding='utf-8')\n",
    "for word_num in range(1, 2090):\n",
    "    word = reverse_word_index[word_num]\n",
    "    embeddings = weights2[word_num]\n",
    "    out_m.write(word + \"\\n\")\n",
    "    out_v.write('\\t'.join([str(x) for x in embeddings]) + \"\\n\")\n",
    "out_v.close()\n",
    "out_m.close()"
   ]
  },
  {
   "cell_type": "code",
   "execution_count": 24,
   "metadata": {},
   "outputs": [],
   "source": [
    "try:\n",
    "    from google.colab import files\n",
    "except ImportError:\n",
    "    pass\n",
    "else:\n",
    "    files.download('vecs2.tsv')\n",
    "    files.download('meta2.tsv')"
   ]
  },
  {
   "cell_type": "code",
   "execution_count": null,
   "metadata": {},
   "outputs": [],
   "source": []
  }
 ],
 "metadata": {
  "kernelspec": {
   "display_name": "Python 3",
   "language": "python",
   "name": "python3"
  },
  "language_info": {
   "codemirror_mode": {
    "name": "ipython",
    "version": 3
   },
   "file_extension": ".py",
   "mimetype": "text/x-python",
   "name": "python",
   "nbconvert_exporter": "python",
   "pygments_lexer": "ipython3",
   "version": "3.8.5"
  }
 },
 "nbformat": 4,
 "nbformat_minor": 2
}
